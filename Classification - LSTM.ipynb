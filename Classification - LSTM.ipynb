{
 "cells": [
  {
   "cell_type": "code",
   "execution_count": 1,
   "metadata": {
    "colab": {
     "base_uri": "https://localhost:8080/"
    },
    "id": "xDHjyex1qJw_",
    "outputId": "10682886-1ff9-44c8-fdf5-5e4bc6477985"
   },
   "outputs": [
    {
     "name": "stdout",
     "output_type": "stream",
     "text": [
      "Mounted at /content/drive\n"
     ]
    }
   ],
   "source": [
    "from google.colab import drive\n",
    "drive.mount('/content/drive')"
   ]
  },
  {
   "cell_type": "code",
   "execution_count": 2,
   "metadata": {
    "id": "FLilvqLtroaH"
   },
   "outputs": [],
   "source": [
    "import numpy as np\n",
    "import pandas as pd\n",
    "import matplotlib.pyplot as plt\n",
    "import seaborn as sns\n",
    "import scipy.stats as stats\n",
    "import re\n",
    "import string\n",
    "from sklearn.impute import SimpleImputer\n",
    "from sklearn.model_selection import train_test_split\n",
    "from sklearn.feature_extraction.text import TfidfVectorizer\n",
    "from sklearn.preprocessing import LabelEncoder\n",
    "from tensorflow.keras.preprocessing.sequence import pad_sequences\n",
    "from tensorflow.keras.models import Sequential\n",
    "from tensorflow.keras.layers import Dense, Bidirectional, LSTM, Dropout, BatchNormalization, SpatialDropout1D\n",
    "from tensorflow.keras.layers import Embedding\n",
    "from keras.initializers import Constant\n",
    "from tensorflow.keras.optimizers import SGD, Adam\n",
    "from tensorflow.keras import optimizers, layers\n",
    "from tensorflow.keras.callbacks import EarlyStopping, ModelCheckpoint\n",
    "from tensorflow.keras.layers import Dense, Flatten, Conv1D, MaxPooling1D, GlobalMaxPooling1D, Dropout, Embedding\n",
    "import tensorflow as tf\n",
    "import time\n",
    "import os\n",
    "import copy"
   ]
  },
  {
   "cell_type": "code",
   "execution_count": 3,
   "metadata": {
    "colab": {
     "base_uri": "https://localhost:8080/"
    },
    "id": "MoLsa1usrUDk",
    "outputId": "67a53479-a1ff-4b78-9dc5-877ced7a340f"
   },
   "outputs": [
    {
     "name": "stdout",
     "output_type": "stream",
     "text": [
      "['consumer_complaints_clean_1.csv', 'Untitled0.ipynb']\n"
     ]
    }
   ],
   "source": [
    "path='/content/drive/MyDrive/consumer finance'\n",
    "dir_list = os.listdir(path)\n",
    "print(dir_list)"
   ]
  },
  {
   "cell_type": "code",
   "execution_count": 4,
   "metadata": {
    "colab": {
     "base_uri": "https://localhost:8080/",
     "height": 206
    },
    "id": "op1Nqklbr1S7",
    "outputId": "4b858bee-6e37-4dd0-976e-ff0ac3839566"
   },
   "outputs": [
    {
     "data": {
      "application/vnd.google.colaboratory.intrinsic+json": {
       "summary": "{\n  \"name\": \"data\",\n  \"rows\": 66806,\n  \"fields\": [\n    {\n      \"column\": \"Unnamed: 0\",\n      \"properties\": {\n        \"dtype\": \"number\",\n        \"std\": 115138,\n        \"min\": 190126,\n        \"max\": 553096,\n        \"num_unique_values\": 66806,\n        \"samples\": [\n          516673,\n          516092,\n          236006\n        ],\n        \"semantic_type\": \"\",\n        \"description\": \"\"\n      }\n    },\n    {\n      \"column\": \"consumer_complaint_narrative\",\n      \"properties\": {\n        \"dtype\": \"string\",\n        \"num_unique_values\": 65510,\n        \"samples\": [\n          \"fell behind credit card obligation able catch initiated contact Walmart Credit Card department able pay entire late payment bring account current agreement agent account would remain open current also agreed initiate direct payments keep account paid required After agent took bank account information set payments parties stratified However actually happen closed account charged money payment never applied towards account remains unaccounted bank statement proving payment made The charge never disclosed reported CRAs false inaccurate\",\n          \"second mortgage loan ending XXXX Wells Fargo Bank received letter attached XXXX XXXX regarding feeling XXXX preditory loan The letter stated During recent review noticed error Year Date summary section billing statement The letter goes state action required however letter Wells Fargo explain exactly mistake occurred amount etc They state prior XXXX XXXX year date amounts paid Other Charges Fees Insurance Taxes There explanation Other Charges Fees Insurance Taxes not pay funds insurance taxes related account handled first mortgage company They ignored requests past give full explanation Other Charges Fees They seem put whatever charges account expect not question know wrong legal put charges account without explanation site insurance taxes account not involved pay past sent correspondence requesting information ignored letters sending correspondence response asking additional information hope respond provide asked\",\n          \"received copy credit report XXXX credit reporting bureaus account The Home Depot listed adverse account contacted XXXX They stated need contact credit bureaus filed dispute XXXX This bureau stated dispute response reported correctly based XXXX reported feel like way resolve inaccurate reporting XXXX adverse account year activity XXXX account XXXX payment days\"\n        ],\n        \"semantic_type\": \"\",\n        \"description\": \"\"\n      }\n    },\n    {\n      \"column\": \"product\",\n      \"properties\": {\n        \"dtype\": \"category\",\n        \"num_unique_values\": 11,\n        \"samples\": [\n          \"Student loan\",\n          \"Debt collection\",\n          \"Other financial service\"\n        ],\n        \"semantic_type\": \"\",\n        \"description\": \"\"\n      }\n    }\n  ]\n}",
       "type": "dataframe",
       "variable_name": "data"
      },
      "text/html": [
       "\n",
       "  <div id=\"df-50aeabfe-c5a3-4cdf-951c-f3872c255b7c\" class=\"colab-df-container\">\n",
       "    <div>\n",
       "<style scoped>\n",
       "    .dataframe tbody tr th:only-of-type {\n",
       "        vertical-align: middle;\n",
       "    }\n",
       "\n",
       "    .dataframe tbody tr th {\n",
       "        vertical-align: top;\n",
       "    }\n",
       "\n",
       "    .dataframe thead th {\n",
       "        text-align: right;\n",
       "    }\n",
       "</style>\n",
       "<table border=\"1\" class=\"dataframe\">\n",
       "  <thead>\n",
       "    <tr style=\"text-align: right;\">\n",
       "      <th></th>\n",
       "      <th>Unnamed: 0</th>\n",
       "      <th>consumer_complaint_narrative</th>\n",
       "      <th>product</th>\n",
       "    </tr>\n",
       "  </thead>\n",
       "  <tbody>\n",
       "    <tr>\n",
       "      <th>0</th>\n",
       "      <td>190126</td>\n",
       "      <td>XXXX claimed owe XXXX years despite PROOF PAYM...</td>\n",
       "      <td>Debt collection</td>\n",
       "    </tr>\n",
       "    <tr>\n",
       "      <th>1</th>\n",
       "      <td>190135</td>\n",
       "      <td>Due inconsistencies amount owed told Bank amou...</td>\n",
       "      <td>Consumer Loan</td>\n",
       "    </tr>\n",
       "    <tr>\n",
       "      <th>2</th>\n",
       "      <td>190155</td>\n",
       "      <td>XXXX wages earned job decreased almost half XX...</td>\n",
       "      <td>Mortgage</td>\n",
       "    </tr>\n",
       "    <tr>\n",
       "      <th>3</th>\n",
       "      <td>190207</td>\n",
       "      <td>open current mortgage Chase Bank XXXX Chase re...</td>\n",
       "      <td>Mortgage</td>\n",
       "    </tr>\n",
       "    <tr>\n",
       "      <th>4</th>\n",
       "      <td>190208</td>\n",
       "      <td>XXXX submitted XXXX time submitted complaint d...</td>\n",
       "      <td>Mortgage</td>\n",
       "    </tr>\n",
       "  </tbody>\n",
       "</table>\n",
       "</div>\n",
       "    <div class=\"colab-df-buttons\">\n",
       "\n",
       "  <div class=\"colab-df-container\">\n",
       "    <button class=\"colab-df-convert\" onclick=\"convertToInteractive('df-50aeabfe-c5a3-4cdf-951c-f3872c255b7c')\"\n",
       "            title=\"Convert this dataframe to an interactive table.\"\n",
       "            style=\"display:none;\">\n",
       "\n",
       "  <svg xmlns=\"http://www.w3.org/2000/svg\" height=\"24px\" viewBox=\"0 -960 960 960\">\n",
       "    <path d=\"M120-120v-720h720v720H120Zm60-500h600v-160H180v160Zm220 220h160v-160H400v160Zm0 220h160v-160H400v160ZM180-400h160v-160H180v160Zm440 0h160v-160H620v160ZM180-180h160v-160H180v160Zm440 0h160v-160H620v160Z\"/>\n",
       "  </svg>\n",
       "    </button>\n",
       "\n",
       "  <style>\n",
       "    .colab-df-container {\n",
       "      display:flex;\n",
       "      gap: 12px;\n",
       "    }\n",
       "\n",
       "    .colab-df-convert {\n",
       "      background-color: #E8F0FE;\n",
       "      border: none;\n",
       "      border-radius: 50%;\n",
       "      cursor: pointer;\n",
       "      display: none;\n",
       "      fill: #1967D2;\n",
       "      height: 32px;\n",
       "      padding: 0 0 0 0;\n",
       "      width: 32px;\n",
       "    }\n",
       "\n",
       "    .colab-df-convert:hover {\n",
       "      background-color: #E2EBFA;\n",
       "      box-shadow: 0px 1px 2px rgba(60, 64, 67, 0.3), 0px 1px 3px 1px rgba(60, 64, 67, 0.15);\n",
       "      fill: #174EA6;\n",
       "    }\n",
       "\n",
       "    .colab-df-buttons div {\n",
       "      margin-bottom: 4px;\n",
       "    }\n",
       "\n",
       "    [theme=dark] .colab-df-convert {\n",
       "      background-color: #3B4455;\n",
       "      fill: #D2E3FC;\n",
       "    }\n",
       "\n",
       "    [theme=dark] .colab-df-convert:hover {\n",
       "      background-color: #434B5C;\n",
       "      box-shadow: 0px 1px 3px 1px rgba(0, 0, 0, 0.15);\n",
       "      filter: drop-shadow(0px 1px 2px rgba(0, 0, 0, 0.3));\n",
       "      fill: #FFFFFF;\n",
       "    }\n",
       "  </style>\n",
       "\n",
       "    <script>\n",
       "      const buttonEl =\n",
       "        document.querySelector('#df-50aeabfe-c5a3-4cdf-951c-f3872c255b7c button.colab-df-convert');\n",
       "      buttonEl.style.display =\n",
       "        google.colab.kernel.accessAllowed ? 'block' : 'none';\n",
       "\n",
       "      async function convertToInteractive(key) {\n",
       "        const element = document.querySelector('#df-50aeabfe-c5a3-4cdf-951c-f3872c255b7c');\n",
       "        const dataTable =\n",
       "          await google.colab.kernel.invokeFunction('convertToInteractive',\n",
       "                                                    [key], {});\n",
       "        if (!dataTable) return;\n",
       "\n",
       "        const docLinkHtml = 'Like what you see? Visit the ' +\n",
       "          '<a target=\"_blank\" href=https://colab.research.google.com/notebooks/data_table.ipynb>data table notebook</a>'\n",
       "          + ' to learn more about interactive tables.';\n",
       "        element.innerHTML = '';\n",
       "        dataTable['output_type'] = 'display_data';\n",
       "        await google.colab.output.renderOutput(dataTable, element);\n",
       "        const docLink = document.createElement('div');\n",
       "        docLink.innerHTML = docLinkHtml;\n",
       "        element.appendChild(docLink);\n",
       "      }\n",
       "    </script>\n",
       "  </div>\n",
       "\n",
       "\n",
       "<div id=\"df-e45bcaaa-4129-4622-9c3e-5ac3d13b4163\">\n",
       "  <button class=\"colab-df-quickchart\" onclick=\"quickchart('df-e45bcaaa-4129-4622-9c3e-5ac3d13b4163')\"\n",
       "            title=\"Suggest charts\"\n",
       "            style=\"display:none;\">\n",
       "\n",
       "<svg xmlns=\"http://www.w3.org/2000/svg\" height=\"24px\"viewBox=\"0 0 24 24\"\n",
       "     width=\"24px\">\n",
       "    <g>\n",
       "        <path d=\"M19 3H5c-1.1 0-2 .9-2 2v14c0 1.1.9 2 2 2h14c1.1 0 2-.9 2-2V5c0-1.1-.9-2-2-2zM9 17H7v-7h2v7zm4 0h-2V7h2v10zm4 0h-2v-4h2v4z\"/>\n",
       "    </g>\n",
       "</svg>\n",
       "  </button>\n",
       "\n",
       "<style>\n",
       "  .colab-df-quickchart {\n",
       "      --bg-color: #E8F0FE;\n",
       "      --fill-color: #1967D2;\n",
       "      --hover-bg-color: #E2EBFA;\n",
       "      --hover-fill-color: #174EA6;\n",
       "      --disabled-fill-color: #AAA;\n",
       "      --disabled-bg-color: #DDD;\n",
       "  }\n",
       "\n",
       "  [theme=dark] .colab-df-quickchart {\n",
       "      --bg-color: #3B4455;\n",
       "      --fill-color: #D2E3FC;\n",
       "      --hover-bg-color: #434B5C;\n",
       "      --hover-fill-color: #FFFFFF;\n",
       "      --disabled-bg-color: #3B4455;\n",
       "      --disabled-fill-color: #666;\n",
       "  }\n",
       "\n",
       "  .colab-df-quickchart {\n",
       "    background-color: var(--bg-color);\n",
       "    border: none;\n",
       "    border-radius: 50%;\n",
       "    cursor: pointer;\n",
       "    display: none;\n",
       "    fill: var(--fill-color);\n",
       "    height: 32px;\n",
       "    padding: 0;\n",
       "    width: 32px;\n",
       "  }\n",
       "\n",
       "  .colab-df-quickchart:hover {\n",
       "    background-color: var(--hover-bg-color);\n",
       "    box-shadow: 0 1px 2px rgba(60, 64, 67, 0.3), 0 1px 3px 1px rgba(60, 64, 67, 0.15);\n",
       "    fill: var(--button-hover-fill-color);\n",
       "  }\n",
       "\n",
       "  .colab-df-quickchart-complete:disabled,\n",
       "  .colab-df-quickchart-complete:disabled:hover {\n",
       "    background-color: var(--disabled-bg-color);\n",
       "    fill: var(--disabled-fill-color);\n",
       "    box-shadow: none;\n",
       "  }\n",
       "\n",
       "  .colab-df-spinner {\n",
       "    border: 2px solid var(--fill-color);\n",
       "    border-color: transparent;\n",
       "    border-bottom-color: var(--fill-color);\n",
       "    animation:\n",
       "      spin 1s steps(1) infinite;\n",
       "  }\n",
       "\n",
       "  @keyframes spin {\n",
       "    0% {\n",
       "      border-color: transparent;\n",
       "      border-bottom-color: var(--fill-color);\n",
       "      border-left-color: var(--fill-color);\n",
       "    }\n",
       "    20% {\n",
       "      border-color: transparent;\n",
       "      border-left-color: var(--fill-color);\n",
       "      border-top-color: var(--fill-color);\n",
       "    }\n",
       "    30% {\n",
       "      border-color: transparent;\n",
       "      border-left-color: var(--fill-color);\n",
       "      border-top-color: var(--fill-color);\n",
       "      border-right-color: var(--fill-color);\n",
       "    }\n",
       "    40% {\n",
       "      border-color: transparent;\n",
       "      border-right-color: var(--fill-color);\n",
       "      border-top-color: var(--fill-color);\n",
       "    }\n",
       "    60% {\n",
       "      border-color: transparent;\n",
       "      border-right-color: var(--fill-color);\n",
       "    }\n",
       "    80% {\n",
       "      border-color: transparent;\n",
       "      border-right-color: var(--fill-color);\n",
       "      border-bottom-color: var(--fill-color);\n",
       "    }\n",
       "    90% {\n",
       "      border-color: transparent;\n",
       "      border-bottom-color: var(--fill-color);\n",
       "    }\n",
       "  }\n",
       "</style>\n",
       "\n",
       "  <script>\n",
       "    async function quickchart(key) {\n",
       "      const quickchartButtonEl =\n",
       "        document.querySelector('#' + key + ' button');\n",
       "      quickchartButtonEl.disabled = true;  // To prevent multiple clicks.\n",
       "      quickchartButtonEl.classList.add('colab-df-spinner');\n",
       "      try {\n",
       "        const charts = await google.colab.kernel.invokeFunction(\n",
       "            'suggestCharts', [key], {});\n",
       "      } catch (error) {\n",
       "        console.error('Error during call to suggestCharts:', error);\n",
       "      }\n",
       "      quickchartButtonEl.classList.remove('colab-df-spinner');\n",
       "      quickchartButtonEl.classList.add('colab-df-quickchart-complete');\n",
       "    }\n",
       "    (() => {\n",
       "      let quickchartButtonEl =\n",
       "        document.querySelector('#df-e45bcaaa-4129-4622-9c3e-5ac3d13b4163 button');\n",
       "      quickchartButtonEl.style.display =\n",
       "        google.colab.kernel.accessAllowed ? 'block' : 'none';\n",
       "    })();\n",
       "  </script>\n",
       "</div>\n",
       "\n",
       "    </div>\n",
       "  </div>\n"
      ],
      "text/plain": [
       "   Unnamed: 0                       consumer_complaint_narrative  \\\n",
       "0      190126  XXXX claimed owe XXXX years despite PROOF PAYM...   \n",
       "1      190135  Due inconsistencies amount owed told Bank amou...   \n",
       "2      190155  XXXX wages earned job decreased almost half XX...   \n",
       "3      190207  open current mortgage Chase Bank XXXX Chase re...   \n",
       "4      190208  XXXX submitted XXXX time submitted complaint d...   \n",
       "\n",
       "           product  \n",
       "0  Debt collection  \n",
       "1    Consumer Loan  \n",
       "2         Mortgage  \n",
       "3         Mortgage  \n",
       "4         Mortgage  "
      ]
     },
     "execution_count": 4,
     "metadata": {},
     "output_type": "execute_result"
    }
   ],
   "source": [
    "data = pd.read_csv('/content/drive/MyDrive/consumer finance/consumer_complaints_clean_1.csv')\n",
    "data.head()"
   ]
  },
  {
   "cell_type": "code",
   "execution_count": 5,
   "metadata": {
    "colab": {
     "base_uri": "https://localhost:8080/"
    },
    "id": "s2fsKO4Tr_Kd",
    "outputId": "cc66e9f2-5ffe-4383-813e-9c75f716bb8d"
   },
   "outputs": [
    {
     "data": {
      "text/plain": [
       "(66806, 3)"
      ]
     },
     "execution_count": 5,
     "metadata": {},
     "output_type": "execute_result"
    }
   ],
   "source": [
    "data.shape"
   ]
  },
  {
   "cell_type": "code",
   "execution_count": 6,
   "metadata": {
    "colab": {
     "base_uri": "https://localhost:8080/"
    },
    "id": "GphQ5vLQsCCJ",
    "outputId": "63149e2f-43bb-4513-98c4-e2adaccecb38"
   },
   "outputs": [
    {
     "data": {
      "text/plain": [
       "Index(['Unnamed: 0', 'consumer_complaint_narrative', 'product'], dtype='object')"
      ]
     },
     "execution_count": 6,
     "metadata": {},
     "output_type": "execute_result"
    }
   ],
   "source": [
    "data.columns"
   ]
  },
  {
   "cell_type": "code",
   "execution_count": 7,
   "metadata": {
    "colab": {
     "base_uri": "https://localhost:8080/"
    },
    "id": "TKDsJSLQsDcV",
    "outputId": "473c1307-ded1-4c92-bc57-f3dc51d58795"
   },
   "outputs": [
    {
     "name": "stdout",
     "output_type": "stream",
     "text": [
      "<class 'pandas.core.frame.DataFrame'>\n",
      "RangeIndex: 66806 entries, 0 to 66805\n",
      "Data columns (total 3 columns):\n",
      " #   Column                        Non-Null Count  Dtype \n",
      "---  ------                        --------------  ----- \n",
      " 0   Unnamed: 0                    66806 non-null  int64 \n",
      " 1   consumer_complaint_narrative  66806 non-null  object\n",
      " 2   product                       66806 non-null  object\n",
      "dtypes: int64(1), object(2)\n",
      "memory usage: 1.5+ MB\n"
     ]
    }
   ],
   "source": [
    "data.info()"
   ]
  },
  {
   "cell_type": "code",
   "execution_count": 8,
   "metadata": {
    "colab": {
     "base_uri": "https://localhost:8080/",
     "height": 89
    },
    "id": "UHFzr0jAsE_w",
    "outputId": "84dbf54f-6294-49b8-cdb2-07724b1ce19f"
   },
   "outputs": [
    {
     "data": {
      "application/vnd.google.colaboratory.intrinsic+json": {
       "summary": "{\n  \"name\": \"missing_train\",\n  \"rows\": 0,\n  \"fields\": [\n    {\n      \"column\": \"Feature\",\n      \"properties\": {\n        \"dtype\": \"number\",\n        \"std\": null,\n        \"min\": null,\n        \"max\": null,\n        \"num_unique_values\": 0,\n        \"samples\": [],\n        \"semantic_type\": \"\",\n        \"description\": \"\"\n      }\n    },\n    {\n      \"column\": \"missing\",\n      \"properties\": {\n        \"dtype\": \"number\",\n        \"std\": null,\n        \"min\": null,\n        \"max\": null,\n        \"num_unique_values\": 0,\n        \"samples\": [],\n        \"semantic_type\": \"\",\n        \"description\": \"\"\n      }\n    }\n  ]\n}",
       "type": "dataframe",
       "variable_name": "missing_train"
      },
      "text/html": [
       "\n",
       "  <div id=\"df-0a36ba2a-91bc-4b6f-8ab1-d32f7428a3d9\" class=\"colab-df-container\">\n",
       "    <div>\n",
       "<style scoped>\n",
       "    .dataframe tbody tr th:only-of-type {\n",
       "        vertical-align: middle;\n",
       "    }\n",
       "\n",
       "    .dataframe tbody tr th {\n",
       "        vertical-align: top;\n",
       "    }\n",
       "\n",
       "    .dataframe thead th {\n",
       "        text-align: right;\n",
       "    }\n",
       "</style>\n",
       "<table border=\"1\" class=\"dataframe\">\n",
       "  <thead>\n",
       "    <tr style=\"text-align: right;\">\n",
       "      <th></th>\n",
       "      <th>Feature</th>\n",
       "      <th>missing</th>\n",
       "    </tr>\n",
       "  </thead>\n",
       "  <tbody>\n",
       "  </tbody>\n",
       "</table>\n",
       "</div>\n",
       "    <div class=\"colab-df-buttons\">\n",
       "\n",
       "  <div class=\"colab-df-container\">\n",
       "    <button class=\"colab-df-convert\" onclick=\"convertToInteractive('df-0a36ba2a-91bc-4b6f-8ab1-d32f7428a3d9')\"\n",
       "            title=\"Convert this dataframe to an interactive table.\"\n",
       "            style=\"display:none;\">\n",
       "\n",
       "  <svg xmlns=\"http://www.w3.org/2000/svg\" height=\"24px\" viewBox=\"0 -960 960 960\">\n",
       "    <path d=\"M120-120v-720h720v720H120Zm60-500h600v-160H180v160Zm220 220h160v-160H400v160Zm0 220h160v-160H400v160ZM180-400h160v-160H180v160Zm440 0h160v-160H620v160ZM180-180h160v-160H180v160Zm440 0h160v-160H620v160Z\"/>\n",
       "  </svg>\n",
       "    </button>\n",
       "\n",
       "  <style>\n",
       "    .colab-df-container {\n",
       "      display:flex;\n",
       "      gap: 12px;\n",
       "    }\n",
       "\n",
       "    .colab-df-convert {\n",
       "      background-color: #E8F0FE;\n",
       "      border: none;\n",
       "      border-radius: 50%;\n",
       "      cursor: pointer;\n",
       "      display: none;\n",
       "      fill: #1967D2;\n",
       "      height: 32px;\n",
       "      padding: 0 0 0 0;\n",
       "      width: 32px;\n",
       "    }\n",
       "\n",
       "    .colab-df-convert:hover {\n",
       "      background-color: #E2EBFA;\n",
       "      box-shadow: 0px 1px 2px rgba(60, 64, 67, 0.3), 0px 1px 3px 1px rgba(60, 64, 67, 0.15);\n",
       "      fill: #174EA6;\n",
       "    }\n",
       "\n",
       "    .colab-df-buttons div {\n",
       "      margin-bottom: 4px;\n",
       "    }\n",
       "\n",
       "    [theme=dark] .colab-df-convert {\n",
       "      background-color: #3B4455;\n",
       "      fill: #D2E3FC;\n",
       "    }\n",
       "\n",
       "    [theme=dark] .colab-df-convert:hover {\n",
       "      background-color: #434B5C;\n",
       "      box-shadow: 0px 1px 3px 1px rgba(0, 0, 0, 0.15);\n",
       "      filter: drop-shadow(0px 1px 2px rgba(0, 0, 0, 0.3));\n",
       "      fill: #FFFFFF;\n",
       "    }\n",
       "  </style>\n",
       "\n",
       "    <script>\n",
       "      const buttonEl =\n",
       "        document.querySelector('#df-0a36ba2a-91bc-4b6f-8ab1-d32f7428a3d9 button.colab-df-convert');\n",
       "      buttonEl.style.display =\n",
       "        google.colab.kernel.accessAllowed ? 'block' : 'none';\n",
       "\n",
       "      async function convertToInteractive(key) {\n",
       "        const element = document.querySelector('#df-0a36ba2a-91bc-4b6f-8ab1-d32f7428a3d9');\n",
       "        const dataTable =\n",
       "          await google.colab.kernel.invokeFunction('convertToInteractive',\n",
       "                                                    [key], {});\n",
       "        if (!dataTable) return;\n",
       "\n",
       "        const docLinkHtml = 'Like what you see? Visit the ' +\n",
       "          '<a target=\"_blank\" href=https://colab.research.google.com/notebooks/data_table.ipynb>data table notebook</a>'\n",
       "          + ' to learn more about interactive tables.';\n",
       "        element.innerHTML = '';\n",
       "        dataTable['output_type'] = 'display_data';\n",
       "        await google.colab.output.renderOutput(dataTable, element);\n",
       "        const docLink = document.createElement('div');\n",
       "        docLink.innerHTML = docLinkHtml;\n",
       "        element.appendChild(docLink);\n",
       "      }\n",
       "    </script>\n",
       "  </div>\n",
       "\n",
       "\n",
       "  <div id=\"id_5f21ed5e-6763-44ab-a35d-c3ccc94d21ad\">\n",
       "    <style>\n",
       "      .colab-df-generate {\n",
       "        background-color: #E8F0FE;\n",
       "        border: none;\n",
       "        border-radius: 50%;\n",
       "        cursor: pointer;\n",
       "        display: none;\n",
       "        fill: #1967D2;\n",
       "        height: 32px;\n",
       "        padding: 0 0 0 0;\n",
       "        width: 32px;\n",
       "      }\n",
       "\n",
       "      .colab-df-generate:hover {\n",
       "        background-color: #E2EBFA;\n",
       "        box-shadow: 0px 1px 2px rgba(60, 64, 67, 0.3), 0px 1px 3px 1px rgba(60, 64, 67, 0.15);\n",
       "        fill: #174EA6;\n",
       "      }\n",
       "\n",
       "      [theme=dark] .colab-df-generate {\n",
       "        background-color: #3B4455;\n",
       "        fill: #D2E3FC;\n",
       "      }\n",
       "\n",
       "      [theme=dark] .colab-df-generate:hover {\n",
       "        background-color: #434B5C;\n",
       "        box-shadow: 0px 1px 3px 1px rgba(0, 0, 0, 0.15);\n",
       "        filter: drop-shadow(0px 1px 2px rgba(0, 0, 0, 0.3));\n",
       "        fill: #FFFFFF;\n",
       "      }\n",
       "    </style>\n",
       "    <button class=\"colab-df-generate\" onclick=\"generateWithVariable('missing_train')\"\n",
       "            title=\"Generate code using this dataframe.\"\n",
       "            style=\"display:none;\">\n",
       "\n",
       "  <svg xmlns=\"http://www.w3.org/2000/svg\" height=\"24px\"viewBox=\"0 0 24 24\"\n",
       "       width=\"24px\">\n",
       "    <path d=\"M7,19H8.4L18.45,9,17,7.55,7,17.6ZM5,21V16.75L18.45,3.32a2,2,0,0,1,2.83,0l1.4,1.43a1.91,1.91,0,0,1,.58,1.4,1.91,1.91,0,0,1-.58,1.4L9.25,21ZM18.45,9,17,7.55Zm-12,3A5.31,5.31,0,0,0,4.9,8.1,5.31,5.31,0,0,0,1,6.5,5.31,5.31,0,0,0,4.9,4.9,5.31,5.31,0,0,0,6.5,1,5.31,5.31,0,0,0,8.1,4.9,5.31,5.31,0,0,0,12,6.5,5.46,5.46,0,0,0,6.5,12Z\"/>\n",
       "  </svg>\n",
       "    </button>\n",
       "    <script>\n",
       "      (() => {\n",
       "      const buttonEl =\n",
       "        document.querySelector('#id_5f21ed5e-6763-44ab-a35d-c3ccc94d21ad button.colab-df-generate');\n",
       "      buttonEl.style.display =\n",
       "        google.colab.kernel.accessAllowed ? 'block' : 'none';\n",
       "\n",
       "      buttonEl.onclick = () => {\n",
       "        google.colab.notebook.generateWithVariable('missing_train');\n",
       "      }\n",
       "      })();\n",
       "    </script>\n",
       "  </div>\n",
       "\n",
       "    </div>\n",
       "  </div>\n"
      ],
      "text/plain": [
       "Empty DataFrame\n",
       "Columns: [Feature, missing]\n",
       "Index: []"
      ]
     },
     "execution_count": 8,
     "metadata": {},
     "output_type": "execute_result"
    }
   ],
   "source": [
    "miss_col_train = data.isnull().sum()[data.isnull().sum() > 0].sort_values(ascending=True)\n",
    "percent_miss_train = round((miss_col_train / len(data) * 100) , 2)\n",
    "missing_train = pd.DataFrame([miss_col_train, percent_miss_train]).T.rename(columns={0:'Feature', 1:'missing'})\n",
    "missing_train"
   ]
  },
  {
   "cell_type": "code",
   "execution_count": 9,
   "metadata": {
    "colab": {
     "base_uri": "https://localhost:8080/",
     "height": 327
    },
    "id": "cNNP6FVgsIlB",
    "outputId": "85cdb3e5-f540-4044-ca0f-00487ae5563b"
   },
   "outputs": [
    {
     "data": {
      "application/vnd.google.colaboratory.intrinsic+json": {
       "summary": "{\n  \"name\": \"data[['consumer_complaint_narrative']]\",\n  \"rows\": 5,\n  \"fields\": [\n    {\n      \"column\": \"consumer_complaint_narrative\",\n      \"properties\": {\n        \"dtype\": \"string\",\n        \"num_unique_values\": 5,\n        \"samples\": [\n          \"Due inconsistencies amount owed told Bank amount reported credit reporting agencies advised write good letter order address issue request negative entry removed credit report together vehicle stolen declared total loss insurance company The insurance company GAP insurancw companypaid outstanding balance loan told Bank still balance due loan good faith without received proof still balance made partial payment towards remaining debt sent goodwill letter still offering pay remainder debt exchange removal negative entry credit report one point XXXX per credit monitoring agency showed delinquent balance checked credit report XXXX XXXX delinquent balance The monies GAP insurance insurance company paid Bank says still owe already paid contacted Bank via return receipt mail not given courtesy response yet\",\n          \"XXXX submitted XXXX time submitted complaint dealt Rushmore Mortgage directly endeavoring get stop continuous daily calls receiving trying collect mortgage not responsible due bankruptcy They denied knowledge bankruptcy even though spoken repeatedly written repeatedly referencing bankruptcy requesting cease pursuit continued When unable trick paying force paying retaliation placed reported credit bureaus past due mortgage amount discharged Federal Court XXXX Rushmore responded referenced complaint indicating would remove reporting bureau yet still XXXX would like remove immediately send letter indicating not first place going remove bureaus Rushmore speaking represented new note holder CFPB involved identified servicing agency XXXX XXXX XXXX This credit bullying racial discrimination practices damaging anyone exposed tactics needs stop Them denying intent walking away penalties kind one reasons continues Please assist procuring resolution\",\n          \"XXXX wages earned job decreased almost half XXXX knew trouble home loan began contacting WFB home loan assitance options early XXXX began Loan Modification process Wells Fargo Bank told would not assist anything financial home loan fell days behind though time started inquire assistance WFB weeks behind began working program called XXXX They approved variety assistence reached Wells Fargo Bank determine could assist Wells Fargo turned assistance XXXX finally offered Loan Modification The outcome totally unknow would offered end WFB assistance Wells Fargo lost paperwork twice process took months time started time paperwork began processed kind approval XXXX trial period months payments based slightly modified amount Roughly less paying original payment However caseworker WFB failed tell since payments time not full amount original mortgage payment not applied loan discovered XXXX told creditor XXXX could restore line credit something mortgage called found caseworker WFB told responsibility tell information told could told could come remaining amount payments would applied Instead chose withhold information damage credit even Now months including days WFB told fall behind would help without applied payment home loan going months More paperwork lost XXXX modification finalized loan modification XXXX spoke lawyer working class action lawsuit WFB people similar situation said paper loss typical Wells Fargo not reduce interest rate reduce payment less payments behind went back loan property taxes also fell behind escrow account time payment loan behind property taxes damaged credit not better payment situation They not give reason rejected XXXX assistance originally told not approved agency later phone call Wells Fargo Bank told work program often WFB employee could not understand would reject help also spoke XXXX said Wells Fargo works program time could understand would feel taken advantage Wells Fargo would like pursue legal action based negligence Although payments back track not making much money matter time something like happens something unforeseen happens life affects finances\"\n        ],\n        \"semantic_type\": \"\",\n        \"description\": \"\"\n      }\n    }\n  ]\n}",
       "type": "dataframe"
      },
      "text/html": [
       "\n",
       "  <div id=\"df-85facb14-87eb-496a-8ccb-40f7ae27b7f3\" class=\"colab-df-container\">\n",
       "    <div>\n",
       "<style scoped>\n",
       "    .dataframe tbody tr th:only-of-type {\n",
       "        vertical-align: middle;\n",
       "    }\n",
       "\n",
       "    .dataframe tbody tr th {\n",
       "        vertical-align: top;\n",
       "    }\n",
       "\n",
       "    .dataframe thead th {\n",
       "        text-align: right;\n",
       "    }\n",
       "</style>\n",
       "<table border=\"1\" class=\"dataframe\">\n",
       "  <thead>\n",
       "    <tr style=\"text-align: right;\">\n",
       "      <th></th>\n",
       "      <th>consumer_complaint_narrative</th>\n",
       "    </tr>\n",
       "  </thead>\n",
       "  <tbody>\n",
       "    <tr>\n",
       "      <th>0</th>\n",
       "      <td>XXXX claimed owe XXXX years despite PROOF PAYMENT sent canceled check ownPAID INVOICE They continue insist owe collection agencies How stop harassment bill already paid four years ago</td>\n",
       "    </tr>\n",
       "    <tr>\n",
       "      <th>1</th>\n",
       "      <td>Due inconsistencies amount owed told Bank amount reported credit reporting agencies advised write good letter order address issue request negative entry removed credit report together vehicle stolen declared total loss insurance company The insurance company GAP insurancw companypaid outstanding balance loan told Bank still balance due loan good faith without received proof still balance made partial payment towards remaining debt sent goodwill letter still offering pay remainder debt exchan...</td>\n",
       "    </tr>\n",
       "    <tr>\n",
       "      <th>2</th>\n",
       "      <td>XXXX wages earned job decreased almost half XXXX knew trouble home loan began contacting WFB home loan assitance options early XXXX began Loan Modification process Wells Fargo Bank told would not assist anything financial home loan fell days behind though time started inquire assistance WFB weeks behind began working program called XXXX They approved variety assistence reached Wells Fargo Bank determine could assist Wells Fargo turned assistance XXXX finally offered Loan Modification The out...</td>\n",
       "    </tr>\n",
       "    <tr>\n",
       "      <th>3</th>\n",
       "      <td>open current mortgage Chase Bank XXXX Chase reporting loan payments XXXX XXXX surpressing information reporting loan Discharged This mortgage reaffirmed Chapter XXXX discharged dated XXXX XXXX Chase keeps referring Law Chapter XXXX keep providing documentation Chapter XXXX account open current payments</td>\n",
       "    </tr>\n",
       "    <tr>\n",
       "      <th>4</th>\n",
       "      <td>XXXX submitted XXXX time submitted complaint dealt Rushmore Mortgage directly endeavoring get stop continuous daily calls receiving trying collect mortgage not responsible due bankruptcy They denied knowledge bankruptcy even though spoken repeatedly written repeatedly referencing bankruptcy requesting cease pursuit continued When unable trick paying force paying retaliation placed reported credit bureaus past due mortgage amount discharged Federal Court XXXX Rushmore responded referenced com...</td>\n",
       "    </tr>\n",
       "  </tbody>\n",
       "</table>\n",
       "</div>\n",
       "    <div class=\"colab-df-buttons\">\n",
       "\n",
       "  <div class=\"colab-df-container\">\n",
       "    <button class=\"colab-df-convert\" onclick=\"convertToInteractive('df-85facb14-87eb-496a-8ccb-40f7ae27b7f3')\"\n",
       "            title=\"Convert this dataframe to an interactive table.\"\n",
       "            style=\"display:none;\">\n",
       "\n",
       "  <svg xmlns=\"http://www.w3.org/2000/svg\" height=\"24px\" viewBox=\"0 -960 960 960\">\n",
       "    <path d=\"M120-120v-720h720v720H120Zm60-500h600v-160H180v160Zm220 220h160v-160H400v160Zm0 220h160v-160H400v160ZM180-400h160v-160H180v160Zm440 0h160v-160H620v160ZM180-180h160v-160H180v160Zm440 0h160v-160H620v160Z\"/>\n",
       "  </svg>\n",
       "    </button>\n",
       "\n",
       "  <style>\n",
       "    .colab-df-container {\n",
       "      display:flex;\n",
       "      gap: 12px;\n",
       "    }\n",
       "\n",
       "    .colab-df-convert {\n",
       "      background-color: #E8F0FE;\n",
       "      border: none;\n",
       "      border-radius: 50%;\n",
       "      cursor: pointer;\n",
       "      display: none;\n",
       "      fill: #1967D2;\n",
       "      height: 32px;\n",
       "      padding: 0 0 0 0;\n",
       "      width: 32px;\n",
       "    }\n",
       "\n",
       "    .colab-df-convert:hover {\n",
       "      background-color: #E2EBFA;\n",
       "      box-shadow: 0px 1px 2px rgba(60, 64, 67, 0.3), 0px 1px 3px 1px rgba(60, 64, 67, 0.15);\n",
       "      fill: #174EA6;\n",
       "    }\n",
       "\n",
       "    .colab-df-buttons div {\n",
       "      margin-bottom: 4px;\n",
       "    }\n",
       "\n",
       "    [theme=dark] .colab-df-convert {\n",
       "      background-color: #3B4455;\n",
       "      fill: #D2E3FC;\n",
       "    }\n",
       "\n",
       "    [theme=dark] .colab-df-convert:hover {\n",
       "      background-color: #434B5C;\n",
       "      box-shadow: 0px 1px 3px 1px rgba(0, 0, 0, 0.15);\n",
       "      filter: drop-shadow(0px 1px 2px rgba(0, 0, 0, 0.3));\n",
       "      fill: #FFFFFF;\n",
       "    }\n",
       "  </style>\n",
       "\n",
       "    <script>\n",
       "      const buttonEl =\n",
       "        document.querySelector('#df-85facb14-87eb-496a-8ccb-40f7ae27b7f3 button.colab-df-convert');\n",
       "      buttonEl.style.display =\n",
       "        google.colab.kernel.accessAllowed ? 'block' : 'none';\n",
       "\n",
       "      async function convertToInteractive(key) {\n",
       "        const element = document.querySelector('#df-85facb14-87eb-496a-8ccb-40f7ae27b7f3');\n",
       "        const dataTable =\n",
       "          await google.colab.kernel.invokeFunction('convertToInteractive',\n",
       "                                                    [key], {});\n",
       "        if (!dataTable) return;\n",
       "\n",
       "        const docLinkHtml = 'Like what you see? Visit the ' +\n",
       "          '<a target=\"_blank\" href=https://colab.research.google.com/notebooks/data_table.ipynb>data table notebook</a>'\n",
       "          + ' to learn more about interactive tables.';\n",
       "        element.innerHTML = '';\n",
       "        dataTable['output_type'] = 'display_data';\n",
       "        await google.colab.output.renderOutput(dataTable, element);\n",
       "        const docLink = document.createElement('div');\n",
       "        docLink.innerHTML = docLinkHtml;\n",
       "        element.appendChild(docLink);\n",
       "      }\n",
       "    </script>\n",
       "  </div>\n",
       "\n",
       "\n",
       "<div id=\"df-6462a617-ac4b-48fd-852c-b81203276a64\">\n",
       "  <button class=\"colab-df-quickchart\" onclick=\"quickchart('df-6462a617-ac4b-48fd-852c-b81203276a64')\"\n",
       "            title=\"Suggest charts\"\n",
       "            style=\"display:none;\">\n",
       "\n",
       "<svg xmlns=\"http://www.w3.org/2000/svg\" height=\"24px\"viewBox=\"0 0 24 24\"\n",
       "     width=\"24px\">\n",
       "    <g>\n",
       "        <path d=\"M19 3H5c-1.1 0-2 .9-2 2v14c0 1.1.9 2 2 2h14c1.1 0 2-.9 2-2V5c0-1.1-.9-2-2-2zM9 17H7v-7h2v7zm4 0h-2V7h2v10zm4 0h-2v-4h2v4z\"/>\n",
       "    </g>\n",
       "</svg>\n",
       "  </button>\n",
       "\n",
       "<style>\n",
       "  .colab-df-quickchart {\n",
       "      --bg-color: #E8F0FE;\n",
       "      --fill-color: #1967D2;\n",
       "      --hover-bg-color: #E2EBFA;\n",
       "      --hover-fill-color: #174EA6;\n",
       "      --disabled-fill-color: #AAA;\n",
       "      --disabled-bg-color: #DDD;\n",
       "  }\n",
       "\n",
       "  [theme=dark] .colab-df-quickchart {\n",
       "      --bg-color: #3B4455;\n",
       "      --fill-color: #D2E3FC;\n",
       "      --hover-bg-color: #434B5C;\n",
       "      --hover-fill-color: #FFFFFF;\n",
       "      --disabled-bg-color: #3B4455;\n",
       "      --disabled-fill-color: #666;\n",
       "  }\n",
       "\n",
       "  .colab-df-quickchart {\n",
       "    background-color: var(--bg-color);\n",
       "    border: none;\n",
       "    border-radius: 50%;\n",
       "    cursor: pointer;\n",
       "    display: none;\n",
       "    fill: var(--fill-color);\n",
       "    height: 32px;\n",
       "    padding: 0;\n",
       "    width: 32px;\n",
       "  }\n",
       "\n",
       "  .colab-df-quickchart:hover {\n",
       "    background-color: var(--hover-bg-color);\n",
       "    box-shadow: 0 1px 2px rgba(60, 64, 67, 0.3), 0 1px 3px 1px rgba(60, 64, 67, 0.15);\n",
       "    fill: var(--button-hover-fill-color);\n",
       "  }\n",
       "\n",
       "  .colab-df-quickchart-complete:disabled,\n",
       "  .colab-df-quickchart-complete:disabled:hover {\n",
       "    background-color: var(--disabled-bg-color);\n",
       "    fill: var(--disabled-fill-color);\n",
       "    box-shadow: none;\n",
       "  }\n",
       "\n",
       "  .colab-df-spinner {\n",
       "    border: 2px solid var(--fill-color);\n",
       "    border-color: transparent;\n",
       "    border-bottom-color: var(--fill-color);\n",
       "    animation:\n",
       "      spin 1s steps(1) infinite;\n",
       "  }\n",
       "\n",
       "  @keyframes spin {\n",
       "    0% {\n",
       "      border-color: transparent;\n",
       "      border-bottom-color: var(--fill-color);\n",
       "      border-left-color: var(--fill-color);\n",
       "    }\n",
       "    20% {\n",
       "      border-color: transparent;\n",
       "      border-left-color: var(--fill-color);\n",
       "      border-top-color: var(--fill-color);\n",
       "    }\n",
       "    30% {\n",
       "      border-color: transparent;\n",
       "      border-left-color: var(--fill-color);\n",
       "      border-top-color: var(--fill-color);\n",
       "      border-right-color: var(--fill-color);\n",
       "    }\n",
       "    40% {\n",
       "      border-color: transparent;\n",
       "      border-right-color: var(--fill-color);\n",
       "      border-top-color: var(--fill-color);\n",
       "    }\n",
       "    60% {\n",
       "      border-color: transparent;\n",
       "      border-right-color: var(--fill-color);\n",
       "    }\n",
       "    80% {\n",
       "      border-color: transparent;\n",
       "      border-right-color: var(--fill-color);\n",
       "      border-bottom-color: var(--fill-color);\n",
       "    }\n",
       "    90% {\n",
       "      border-color: transparent;\n",
       "      border-bottom-color: var(--fill-color);\n",
       "    }\n",
       "  }\n",
       "</style>\n",
       "\n",
       "  <script>\n",
       "    async function quickchart(key) {\n",
       "      const quickchartButtonEl =\n",
       "        document.querySelector('#' + key + ' button');\n",
       "      quickchartButtonEl.disabled = true;  // To prevent multiple clicks.\n",
       "      quickchartButtonEl.classList.add('colab-df-spinner');\n",
       "      try {\n",
       "        const charts = await google.colab.kernel.invokeFunction(\n",
       "            'suggestCharts', [key], {});\n",
       "      } catch (error) {\n",
       "        console.error('Error during call to suggestCharts:', error);\n",
       "      }\n",
       "      quickchartButtonEl.classList.remove('colab-df-spinner');\n",
       "      quickchartButtonEl.classList.add('colab-df-quickchart-complete');\n",
       "    }\n",
       "    (() => {\n",
       "      let quickchartButtonEl =\n",
       "        document.querySelector('#df-6462a617-ac4b-48fd-852c-b81203276a64 button');\n",
       "      quickchartButtonEl.style.display =\n",
       "        google.colab.kernel.accessAllowed ? 'block' : 'none';\n",
       "    })();\n",
       "  </script>\n",
       "</div>\n",
       "\n",
       "    </div>\n",
       "  </div>\n"
      ],
      "text/plain": [
       "                                                                                                                                                                                                                                                                                                                                                                                                                                                                                          consumer_complaint_narrative\n",
       "0                                                                                                                                                                                                                                                                                                                              XXXX claimed owe XXXX years despite PROOF PAYMENT sent canceled check ownPAID INVOICE They continue insist owe collection agencies How stop harassment bill already paid four years ago\n",
       "1  Due inconsistencies amount owed told Bank amount reported credit reporting agencies advised write good letter order address issue request negative entry removed credit report together vehicle stolen declared total loss insurance company The insurance company GAP insurancw companypaid outstanding balance loan told Bank still balance due loan good faith without received proof still balance made partial payment towards remaining debt sent goodwill letter still offering pay remainder debt exchan...\n",
       "2  XXXX wages earned job decreased almost half XXXX knew trouble home loan began contacting WFB home loan assitance options early XXXX began Loan Modification process Wells Fargo Bank told would not assist anything financial home loan fell days behind though time started inquire assistance WFB weeks behind began working program called XXXX They approved variety assistence reached Wells Fargo Bank determine could assist Wells Fargo turned assistance XXXX finally offered Loan Modification The out...\n",
       "3                                                                                                                                                                                                      open current mortgage Chase Bank XXXX Chase reporting loan payments XXXX XXXX surpressing information reporting loan Discharged This mortgage reaffirmed Chapter XXXX discharged dated XXXX XXXX Chase keeps referring Law Chapter XXXX keep providing documentation Chapter XXXX account open current payments\n",
       "4  XXXX submitted XXXX time submitted complaint dealt Rushmore Mortgage directly endeavoring get stop continuous daily calls receiving trying collect mortgage not responsible due bankruptcy They denied knowledge bankruptcy even though spoken repeatedly written repeatedly referencing bankruptcy requesting cease pursuit continued When unable trick paying force paying retaliation placed reported credit bureaus past due mortgage amount discharged Federal Court XXXX Rushmore responded referenced com..."
      ]
     },
     "execution_count": 9,
     "metadata": {},
     "output_type": "execute_result"
    }
   ],
   "source": [
    "pd.set_option('max_colwidth', 500)\n",
    "data[['consumer_complaint_narrative']].head(5)"
   ]
  },
  {
   "cell_type": "code",
   "execution_count": 10,
   "metadata": {
    "colab": {
     "base_uri": "https://localhost:8080/"
    },
    "id": "Wx4cz9GesOo9",
    "outputId": "faffe3c8-35ae-4209-a28c-26d3e86632f8"
   },
   "outputs": [
    {
     "data": {
      "text/plain": [
       "0                                                                                                                                                                                                                                                                                                                                    xxxx claimed owe xxxx years despite proof payment sent canceled check ownpaid invoice they continue insist owe collection agencies how stop harassment bill already paid four years ago\n",
       "1        due inconsistencies amount owed told bank amount reported credit reporting agencies advised write good letter order address issue request negative entry removed credit report together vehicle stolen declared total loss insurance company the insurance company gap insurancw companypaid outstanding balance loan told bank still balance due loan good faith without received proof still balance made partial payment towards remaining debt sent goodwill letter still offering pay remainder debt exchan...\n",
       "2        xxxx wages earned job decreased almost half xxxx knew trouble home loan began contacting wfb home loan assitance options early xxxx began loan modification process wells fargo bank told would not assist anything financial home loan fell days behind though time started inquire assistance wfb weeks behind began working program called xxxx they approved variety assistence reached wells fargo bank determine could assist wells fargo turned assistance xxxx finally offered loan modification the out...\n",
       "3                                                                                                                                                                                                            open current mortgage chase bank xxxx chase reporting loan payments xxxx xxxx surpressing information reporting loan discharged this mortgage reaffirmed chapter xxxx discharged dated xxxx xxxx chase keeps referring law chapter xxxx keep providing documentation chapter xxxx account open current payments\n",
       "4        xxxx submitted xxxx time submitted complaint dealt rushmore mortgage directly endeavoring get stop continuous daily calls receiving trying collect mortgage not responsible due bankruptcy they denied knowledge bankruptcy even though spoken repeatedly written repeatedly referencing bankruptcy requesting cease pursuit continued when unable trick paying force paying retaliation placed reported credit bureaus past due mortgage amount discharged federal court xxxx rushmore responded referenced com...\n",
       "                                                                                                                                                                                                                                                                ...                                                                                                                                                                                                                                                         \n",
       "66801                                                                                                                                                                                                                                                                                                                                                                                                                                           xxxx xxxx reporting incorrectly payments time vehicle turned time dealership\n",
       "66802                                                                                                                                                                                                                                                                                                                                                                                                                                                                          reflecting incorrect payment status have time\n",
       "66803                                                                                                                 paying month direct debit withdrawal checking account several months loan the month extension thought installments satisfy original loan this company received fees loan still balance due they send contract agreed haste not clearly understand although understand payday loans fair business charge amount loan this equates interest extension fee there cap charge fees month extension fee xxxx\n",
       "66804    recently became aware amerisave mortgage corporation participated illegal practices harm customers not know time recently legal recourse issue would like seek restitution time applied year fixed rate mortgage loan amerisave xxxx xxxx loan application xxxx part process paid appraisal also paid discount points lower interest rate mortgage these payments made credit card xxxx xxxx records shortly cancelled loan terms not satisfactory understanding appraisal fee non refundable paid discount poin...\n",
       "66805    bank america demonstrated going level incompetence callous disregard wellbeing customer negligence responsibility adequately guide client loan process because unprofessional behavior suffered extraordinary emotional hardship inflicted financial burden not initially intended applied loan one many issues follows after going extraordinarily difficult mortgage finalization process wrote president bank america within short time received calls corporate representative xxxx another representative x...\n",
       "Name: consumer_complaint_narrative, Length: 66806, dtype: object"
      ]
     },
     "execution_count": 10,
     "metadata": {},
     "output_type": "execute_result"
    }
   ],
   "source": [
    "data['consumer_complaint_narrative'].str.lower()"
   ]
  },
  {
   "cell_type": "code",
   "execution_count": 11,
   "metadata": {
    "id": "Mk_kzIVSsRA1"
   },
   "outputs": [],
   "source": [
    "from wordcloud import WordCloud\n",
    "import nltk\n",
    "from nltk.stem import WordNetLemmatizer\n",
    "from nltk import word_tokenize\n",
    "from nltk.tokenize import word_tokenize\n",
    "from nltk.corpus import stopwords\n",
    "from tensorflow.keras.preprocessing.text import Tokenizer\n",
    "from tensorflow.keras.preprocessing.sequence import pad_sequences"
   ]
  },
  {
   "cell_type": "code",
   "execution_count": 12,
   "metadata": {
    "colab": {
     "base_uri": "https://localhost:8080/"
    },
    "id": "Y6zsEPKNsSze",
    "outputId": "6ed46ab8-bb6c-4538-8519-32f490fdaf20"
   },
   "outputs": [
    {
     "name": "stderr",
     "output_type": "stream",
     "text": [
      "[nltk_data] Downloading package punkt to /root/nltk_data...\n",
      "[nltk_data]   Unzipping tokenizers/punkt.zip.\n"
     ]
    },
    {
     "data": {
      "text/plain": [
       "True"
      ]
     },
     "execution_count": 12,
     "metadata": {},
     "output_type": "execute_result"
    }
   ],
   "source": [
    "nltk.download('punkt')"
   ]
  },
  {
   "cell_type": "code",
   "execution_count": 13,
   "metadata": {
    "id": "U8NeWxTysUOG"
   },
   "outputs": [],
   "source": [
    "def remove_number(text):\n",
    "    num = re.compile(r'[-+]?[.\\d]*[\\d]+[:,.\\d]*')\n",
    "    return num.sub(r'', text)\n",
    "\n",
    "def remove_url(text):\n",
    "    url = re.compile(r'https?://\\S+|www\\.\\S+')\n",
    "    return url.sub(r'', text)\n",
    "\n",
    "def remove_html(text):\n",
    "    html = re.compile(r'<.*?>|&([a-z0-9]+|#[0-9]{1,6}|#x[0-9a-f]{1,6});')\n",
    "    return re.sub(html, '', text)\n",
    "\n",
    "def remove_punctuations_numbers(inputs):\n",
    "    return re.sub(r'[^a-zA-Z]', ' ', inputs)\n",
    "\n",
    "def tokenization(inputs):\n",
    "    return word_tokenize(inputs)"
   ]
  },
  {
   "cell_type": "code",
   "execution_count": 14,
   "metadata": {
    "id": "EDJ7ZwsbseLG"
   },
   "outputs": [],
   "source": [
    "data['consumer_complaint_narrative'] = data['consumer_complaint_narrative'].apply(remove_number)\n",
    "data['consumer_complaint_narrative'] = data['consumer_complaint_narrative'].apply(remove_url)\n",
    "data['consumer_complaint_narrative'] = data['consumer_complaint_narrative'].apply(remove_html)\n",
    "data['consumer_complaint_narrative'] = data['consumer_complaint_narrative'].apply(remove_punctuations_numbers)\n",
    "data['consumer_complaint_narrative'] = data['consumer_complaint_narrative'].apply(tokenization)"
   ]
  },
  {
   "cell_type": "code",
   "execution_count": 15,
   "metadata": {
    "colab": {
     "base_uri": "https://localhost:8080/"
    },
    "id": "Eu4FIZPysWOJ",
    "outputId": "510b1d94-0a56-441c-c75f-3e889d4ec706"
   },
   "outputs": [
    {
     "data": {
      "text/plain": [
       "['contacted',\n",
       " 'Drivetime',\n",
       " 'several',\n",
       " 'different',\n",
       " 'occasions',\n",
       " 'regarding',\n",
       " 'car',\n",
       " 'loan',\n",
       " 'account',\n",
       " 'XXXX',\n",
       " 'not',\n",
       " 'number',\n",
       " 'loan',\n",
       " 'removed',\n",
       " 'also',\n",
       " 'credit',\n",
       " 'bureau',\n",
       " 'positive',\n",
       " 'credit',\n",
       " 'rating',\n",
       " 'closed',\n",
       " 'paid',\n",
       " 'full',\n",
       " 'The',\n",
       " 'company',\n",
       " 'insisted',\n",
       " 'avoiding',\n",
       " 'agreement',\n",
       " 'entered',\n",
       " 'XXXX',\n",
       " 'company',\n",
       " 'representative',\n",
       " 'corporate',\n",
       " 'position',\n",
       " 'agreed',\n",
       " 'upon',\n",
       " 'resolution',\n",
       " 'provide',\n",
       " 'agency',\n",
       " 'copy',\n",
       " 'not',\n",
       " 'capability',\n",
       " 'computer',\n",
       " 'Drivetime',\n",
       " 'month',\n",
       " 'XXXX',\n",
       " 'XXXX',\n",
       " 'removed',\n",
       " 'credit',\n",
       " 'reporting',\n",
       " 'information',\n",
       " 'XXXX',\n",
       " 'credit',\n",
       " 'bureaus',\n",
       " 'reporting',\n",
       " 'agencies',\n",
       " 'believe',\n",
       " 'XXXX',\n",
       " 'XXXX',\n",
       " 'XXXX',\n",
       " 'discovered',\n",
       " 'XXXX',\n",
       " 'XXXX',\n",
       " 'positive',\n",
       " 'credit',\n",
       " 'ratings',\n",
       " 'longer',\n",
       " 'XXXX',\n",
       " 'XXXX',\n",
       " 'credit',\n",
       " 'bureaus',\n",
       " 'another',\n",
       " 'positive',\n",
       " 'account',\n",
       " 'another',\n",
       " 'car',\n",
       " 'loan',\n",
       " 'longer',\n",
       " 'reporting',\n",
       " 'credit',\n",
       " 'file',\n",
       " 'removals',\n",
       " 'adversely',\n",
       " 'affecxted',\n",
       " 'credit',\n",
       " 'ratings',\n",
       " 'ability',\n",
       " 'purchase',\n",
       " 'something',\n",
       " 'lower',\n",
       " 'interest',\n",
       " 'rate',\n",
       " 'never',\n",
       " 'missed',\n",
       " 'payment',\n",
       " 'Drivetime',\n",
       " 'company',\n",
       " 'car',\n",
       " 'loans',\n",
       " 'inclusive',\n",
       " 'XXXX',\n",
       " 'XXXX',\n",
       " 'XXXX',\n",
       " 'XXXX',\n",
       " 'different',\n",
       " 'auto',\n",
       " 'loans',\n",
       " 'destroy',\n",
       " 'credit',\n",
       " 'ratings',\n",
       " 'despicable',\n",
       " 'spoke',\n",
       " 'XXXX',\n",
       " 'today',\n",
       " 'XXXX',\n",
       " 'XXXX',\n",
       " 'XXXX',\n",
       " 'regarding',\n",
       " 'issues',\n",
       " 'response',\n",
       " 'Drivetime',\n",
       " 'process',\n",
       " 'updating',\n",
       " 'consumers',\n",
       " 'credit',\n",
       " 'files',\n",
       " 'consumers',\n",
       " 'credit',\n",
       " 'files',\n",
       " 'removed',\n",
       " 'credit',\n",
       " 'bureaus',\n",
       " 'updated',\n",
       " 'however',\n",
       " 'not',\n",
       " 'know',\n",
       " 'process',\n",
       " 'performed',\n",
       " 'records',\n",
       " 'updated',\n",
       " 'corrected',\n",
       " 'process',\n",
       " 'timeframes',\n",
       " 'process',\n",
       " 'take',\n",
       " 'furthermore',\n",
       " 'process',\n",
       " 'involves',\n",
       " 'consumers',\n",
       " 'credit',\n",
       " 'reports',\n",
       " 'updating',\n",
       " 'reports',\n",
       " 'existing',\n",
       " 'customers',\n",
       " 'would',\n",
       " 'not',\n",
       " 'apply',\n",
       " 'loans',\n",
       " 'paid',\n",
       " 'closed',\n",
       " 'however',\n",
       " 'thing',\n",
       " 'credit',\n",
       " 'reports',\n",
       " 'Therefore',\n",
       " 'process',\n",
       " 'would',\n",
       " 'leave',\n",
       " 'credit',\n",
       " 'ratings',\n",
       " 'accounts',\n",
       " 'paid',\n",
       " 'good',\n",
       " 'faith',\n",
       " 'never',\n",
       " 'missed',\n",
       " 'payment',\n",
       " 'however',\n",
       " 'kept',\n",
       " 'trying',\n",
       " 'report',\n",
       " 'latest',\n",
       " 'account',\n",
       " 'repossession',\n",
       " 'account',\n",
       " 'not',\n",
       " 'satisfied',\n",
       " 'make',\n",
       " 'corrections',\n",
       " 'back',\n",
       " 'XXXX',\n",
       " 'XXXX',\n",
       " 'XXXX',\n",
       " 'discovered',\n",
       " 'yet',\n",
       " 'tampered',\n",
       " 'accounts',\n",
       " 'removing',\n",
       " 'positive',\n",
       " 'information',\n",
       " 'bureau',\n",
       " 'account',\n",
       " 'paid',\n",
       " 'XXXX',\n",
       " 'account',\n",
       " 'prior',\n",
       " 'XXXX',\n",
       " 'removed',\n",
       " 'credit',\n",
       " 'bureau',\n",
       " 'entirely',\n",
       " 'left',\n",
       " 'XXXX',\n",
       " 'account',\n",
       " 'XXXX',\n",
       " 'bureau',\n",
       " 'believe',\n",
       " 'XXXX',\n",
       " 'credit',\n",
       " 'Bureau',\n",
       " 'method',\n",
       " 'operations',\n",
       " 'done',\n",
       " 'existing',\n",
       " 'consumers',\n",
       " 'Therefore',\n",
       " 'Drivetime',\n",
       " 'Representative',\n",
       " 'XXXX',\n",
       " 'gave',\n",
       " 'erroneous',\n",
       " 'information',\n",
       " 'accounts',\n",
       " 'reasons',\n",
       " 'submitting',\n",
       " 'complaint',\n",
       " 'Consumer',\n",
       " 'Financial',\n",
       " 'Protection',\n",
       " 'Bureau',\n",
       " 'based',\n",
       " 'ruling',\n",
       " 'implemented',\n",
       " 'terms',\n",
       " 'enforcement',\n",
       " 'Drivetime',\n",
       " 'XXXX',\n",
       " 'XXXX',\n",
       " 'violations',\n",
       " 'consumer',\n",
       " 'rights',\n",
       " 'dated',\n",
       " 'XXXX',\n",
       " 'XXXX',\n",
       " 'XXXX',\n",
       " 'XXXX',\n",
       " 'XXXX',\n",
       " 'XXXX',\n",
       " 'prior',\n",
       " 'dates',\n",
       " 'XXXX']"
      ]
     },
     "execution_count": 15,
     "metadata": {},
     "output_type": "execute_result"
    }
   ],
   "source": [
    "data.iloc[100]['consumer_complaint_narrative']"
   ]
  },
  {
   "cell_type": "code",
   "execution_count": 15,
   "metadata": {
    "id": "ARj5PCAMsXd2"
   },
   "outputs": [],
   "source": []
  },
  {
   "cell_type": "code",
   "execution_count": 16,
   "metadata": {
    "colab": {
     "base_uri": "https://localhost:8080/"
    },
    "id": "m9U9oM7tsZkq",
    "outputId": "1c10858c-4984-4f23-e9f8-4e5536659fa1"
   },
   "outputs": [
    {
     "data": {
      "text/plain": [
       "0                                                                                                                                                                                                                                                                                                   [XXXX, claimed, owe, XXXX, years, despite, PROOF, PAYMENT, sent, canceled, check, ownPAID, INVOICE, They, continue, insist, owe, collection, agencies, How, stop, harassment, bill, already, paid, four, years, ago]\n",
       "1    [Due, inconsistencies, amount, owed, told, Bank, amount, reported, credit, reporting, agencies, advised, write, good, letter, order, address, issue, request, negative, entry, removed, credit, report, together, vehicle, stolen, declared, total, loss, insurance, company, The, insurance, company, GAP, insurancw, companypaid, outstanding, balance, loan, told, Bank, still, balance, due, loan, good, faith, without, received, proof, still, balance, made, partial, payment, towards, remaining, debt, ...\n",
       "2    [XXXX, wages, earned, job, decreased, almost, half, XXXX, knew, trouble, home, loan, began, contacting, WFB, home, loan, assitance, options, early, XXXX, began, Loan, Modification, process, Wells, Fargo, Bank, told, would, not, assist, anything, financial, home, loan, fell, days, behind, though, time, started, inquire, assistance, WFB, weeks, behind, began, working, program, called, XXXX, They, approved, variety, assistence, reached, Wells, Fargo, Bank, determine, could, assist, Wells, Fargo...\n",
       "3                                                                                                                                                              [open, current, mortgage, Chase, Bank, XXXX, Chase, reporting, loan, payments, XXXX, XXXX, surpressing, information, reporting, loan, Discharged, This, mortgage, reaffirmed, Chapter, XXXX, discharged, dated, XXXX, XXXX, Chase, keeps, referring, Law, Chapter, XXXX, keep, providing, documentation, Chapter, XXXX, account, open, current, payments]\n",
       "4    [XXXX, submitted, XXXX, time, submitted, complaint, dealt, Rushmore, Mortgage, directly, endeavoring, get, stop, continuous, daily, calls, receiving, trying, collect, mortgage, not, responsible, due, bankruptcy, They, denied, knowledge, bankruptcy, even, though, spoken, repeatedly, written, repeatedly, referencing, bankruptcy, requesting, cease, pursuit, continued, When, unable, trick, paying, force, paying, retaliation, placed, reported, credit, bureaus, past, due, mortgage, amount, dischar...\n",
       "Name: consumer_complaint_narrative, dtype: object"
      ]
     },
     "execution_count": 16,
     "metadata": {},
     "output_type": "execute_result"
    }
   ],
   "source": [
    "data['consumer_complaint_narrative'].head()"
   ]
  },
  {
   "cell_type": "code",
   "execution_count": 17,
   "metadata": {
    "colab": {
     "base_uri": "https://localhost:8080/"
    },
    "id": "EFvs1N6IshIp",
    "outputId": "e29d385a-785e-48c7-ef71-714e8ba57ab2"
   },
   "outputs": [
    {
     "name": "stderr",
     "output_type": "stream",
     "text": [
      "[nltk_data] Downloading package stopwords to /root/nltk_data...\n",
      "[nltk_data]   Unzipping corpora/stopwords.zip.\n",
      "[nltk_data] Downloading package wordnet to /root/nltk_data...\n"
     ]
    },
    {
     "data": {
      "text/plain": [
       "0                                                                                                                                                                                                                                                                                                   [XXXX, claimed, owe, XXXX, years, despite, PROOF, PAYMENT, sent, canceled, check, ownPAID, INVOICE, They, continue, insist, owe, collection, agencies, How, stop, harassment, bill, already, paid, four, years, ago]\n",
       "1    [Due, inconsistencies, amount, owed, told, Bank, amount, reported, credit, reporting, agencies, advised, write, good, letter, order, address, issue, request, negative, entry, removed, credit, report, together, vehicle, stolen, declared, total, loss, insurance, company, The, insurance, company, GAP, insurancw, companypaid, outstanding, balance, loan, told, Bank, still, balance, due, loan, good, faith, without, received, proof, still, balance, made, partial, payment, towards, remaining, debt, ...\n",
       "2    [XXXX, wages, earned, job, decreased, almost, half, XXXX, knew, trouble, home, loan, began, contacting, WFB, home, loan, assitance, options, early, XXXX, began, Loan, Modification, process, Wells, Fargo, Bank, told, would, not, assist, anything, financial, home, loan, fell, days, behind, though, time, started, inquire, assistance, WFB, weeks, behind, began, working, program, called, XXXX, They, approved, variety, assistence, reached, Wells, Fargo, Bank, determine, could, assist, Wells, Fargo...\n",
       "3                                                                                                                                                              [open, current, mortgage, Chase, Bank, XXXX, Chase, reporting, loan, payments, XXXX, XXXX, surpressing, information, reporting, loan, Discharged, This, mortgage, reaffirmed, Chapter, XXXX, discharged, dated, XXXX, XXXX, Chase, keeps, referring, Law, Chapter, XXXX, keep, providing, documentation, Chapter, XXXX, account, open, current, payments]\n",
       "4    [XXXX, submitted, XXXX, time, submitted, complaint, dealt, Rushmore, Mortgage, directly, endeavoring, get, stop, continuous, daily, calls, receiving, trying, collect, mortgage, not, responsible, due, bankruptcy, They, denied, knowledge, bankruptcy, even, though, spoken, repeatedly, written, repeatedly, referencing, bankruptcy, requesting, cease, pursuit, continued, When, unable, trick, paying, force, paying, retaliation, placed, reported, credit, bureaus, past, due, mortgage, amount, dischar...\n",
       "Name: consumer_complaint_narrative, dtype: object"
      ]
     },
     "execution_count": 17,
     "metadata": {},
     "output_type": "execute_result"
    }
   ],
   "source": [
    "nltk.download('stopwords')\n",
    "nltk.download('wordnet')\n",
    "\n",
    "stop_words = set(stopwords.words('english'))\n",
    "stop_words.remove('not')\n",
    "\n",
    "def stopwords_remove(inputs):\n",
    "    return [k for k in inputs if k not in stop_words]\n",
    "\n",
    "data['consumer_complaint_narrative'] = data['consumer_complaint_narrative'].apply(stopwords_remove)\n",
    "data['consumer_complaint_narrative'].head()"
   ]
  },
  {
   "cell_type": "code",
   "execution_count": 18,
   "metadata": {
    "colab": {
     "base_uri": "https://localhost:8080/"
    },
    "id": "csfUH-V5sioJ",
    "outputId": "abf36579-43de-4361-cb28-51ed246628cc"
   },
   "outputs": [
    {
     "data": {
      "text/plain": [
       "0                                                                                                                                                                                                                                                                                                   [XXXX, claimed, owe, XXXX, years, despite, PROOF, PAYMENT, sent, canceled, check, ownPAID, INVOICE, They, continue, insist, owe, collection, agencies, How, stop, harassment, bill, already, paid, four, years, ago]\n",
       "1    [Due, inconsistencies, amount, owed, told, Bank, amount, reported, credit, reporting, agencies, advised, write, good, letter, order, address, issue, request, negative, entry, removed, credit, report, together, vehicle, stolen, declared, total, loss, insurance, company, The, insurance, company, GAP, insurancw, companypaid, outstanding, balance, loan, told, Bank, still, balance, due, loan, good, faith, without, received, proof, still, balance, made, partial, payment, towards, remaining, debt, ...\n",
       "2    [XXXX, wages, earned, job, decreased, almost, half, XXXX, knew, trouble, home, loan, began, contacting, WFB, home, loan, assitance, options, early, XXXX, began, Loan, Modification, process, Wells, Fargo, Bank, told, would, not, assist, anything, financial, home, loan, fell, days, behind, though, time, started, inquire, assistance, WFB, weeks, behind, began, working, program, called, XXXX, They, approved, variety, assistence, reached, Wells, Fargo, Bank, determine, could, assist, Wells, Fargo...\n",
       "3                                                                                                                                                              [open, current, mortgage, Chase, Bank, XXXX, Chase, reporting, loan, payments, XXXX, XXXX, surpressing, information, reporting, loan, Discharged, This, mortgage, reaffirmed, Chapter, XXXX, discharged, dated, XXXX, XXXX, Chase, keeps, referring, Law, Chapter, XXXX, keep, providing, documentation, Chapter, XXXX, account, open, current, payments]\n",
       "4    [XXXX, submitted, XXXX, time, submitted, complaint, dealt, Rushmore, Mortgage, directly, endeavoring, get, stop, continuous, daily, calls, receiving, trying, collect, mortgage, not, responsible, due, bankruptcy, They, denied, knowledge, bankruptcy, even, though, spoken, repeatedly, written, repeatedly, referencing, bankruptcy, requesting, cease, pursuit, continued, When, unable, trick, paying, force, paying, retaliation, placed, reported, credit, bureaus, past, due, mortgage, amount, dischar...\n",
       "Name: consumer_complaint_narrative, dtype: object"
      ]
     },
     "execution_count": 18,
     "metadata": {},
     "output_type": "execute_result"
    }
   ],
   "source": [
    "def word_length_filter(inputs):\n",
    "    return [j for j in inputs if len(j) > 2]\n",
    "\n",
    "data['consumer_complaint_narrative'] = data['consumer_complaint_narrative'].apply(word_length_filter)\n",
    "data['consumer_complaint_narrative'].head()"
   ]
  },
  {
   "cell_type": "code",
   "execution_count": 19,
   "metadata": {
    "colab": {
     "base_uri": "https://localhost:8080/"
    },
    "id": "OO0Gx5JMskQS",
    "outputId": "3044c53e-9a14-473e-8a4f-f62a80f97888"
   },
   "outputs": [
    {
     "data": {
      "text/plain": [
       "0                                                                                                                                                                                                                                                                                                                                XXXX claimed owe XXXX years despite PROOF PAYMENT sent canceled check ownPAID INVOICE They continue insist owe collection agencies How stop harassment bill already paid four years ago\n",
       "1    Due inconsistencies amount owed told Bank amount reported credit reporting agencies advised write good letter order address issue request negative entry removed credit report together vehicle stolen declared total loss insurance company The insurance company GAP insurancw companypaid outstanding balance loan told Bank still balance due loan good faith without received proof still balance made partial payment towards remaining debt sent goodwill letter still offering pay remainder debt exchan...\n",
       "2    XXXX wages earned job decreased almost half XXXX knew trouble home loan began contacting WFB home loan assitance options early XXXX began Loan Modification process Wells Fargo Bank told would not assist anything financial home loan fell days behind though time started inquire assistance WFB weeks behind began working program called XXXX They approved variety assistence reached Wells Fargo Bank determine could assist Wells Fargo turned assistance XXXX finally offered Loan Modification The out...\n",
       "3                                                                                                                                                                                                        open current mortgage Chase Bank XXXX Chase reporting loan payments XXXX XXXX surpressing information reporting loan Discharged This mortgage reaffirmed Chapter XXXX discharged dated XXXX XXXX Chase keeps referring Law Chapter XXXX keep providing documentation Chapter XXXX account open current payments\n",
       "4    XXXX submitted XXXX time submitted complaint dealt Rushmore Mortgage directly endeavoring get stop continuous daily calls receiving trying collect mortgage not responsible due bankruptcy They denied knowledge bankruptcy even though spoken repeatedly written repeatedly referencing bankruptcy requesting cease pursuit continued When unable trick paying force paying retaliation placed reported credit bureaus past due mortgage amount discharged Federal Court XXXX Rushmore responded referenced com...\n",
       "Name: consumer_complaint_narrative, dtype: object"
      ]
     },
     "execution_count": 19,
     "metadata": {},
     "output_type": "execute_result"
    }
   ],
   "source": [
    "data['consumer_complaint_narrative'] = data['consumer_complaint_narrative'].str.join(' ')\n",
    "data['consumer_complaint_narrative'].head()"
   ]
  },
  {
   "cell_type": "code",
   "execution_count": 20,
   "metadata": {
    "id": "Ked8bF5Pslle"
   },
   "outputs": [],
   "source": [
    "text = data['consumer_complaint_narrative'].tolist()\n",
    "tokenizer_obj = Tokenizer()\n",
    "tokenizer_obj.fit_on_texts(text)\n",
    "\n",
    "sequences = tokenizer_obj.texts_to_sequences(text)\n",
    "word_index = tokenizer_obj.word_index"
   ]
  },
  {
   "cell_type": "code",
   "execution_count": 21,
   "metadata": {
    "colab": {
     "base_uri": "https://localhost:8080/"
    },
    "id": "XYoUHPNysndi",
    "outputId": "29fe9073-9b49-40d1-f250-3f90e74ad545"
   },
   "outputs": [
    {
     "data": {
      "text/plain": [
       "582"
      ]
     },
     "execution_count": 21,
     "metadata": {},
     "output_type": "execute_result"
    }
   ],
   "source": [
    "max_sequence_length = max(len(encoded_text) for encoded_text in sequences)\n",
    "pad = pad_sequences(sequences, maxlen=max_sequence_length, truncating='post', padding='post')\n",
    "max_sequence_length"
   ]
  },
  {
   "cell_type": "code",
   "execution_count": 22,
   "metadata": {
    "colab": {
     "base_uri": "https://localhost:8080/"
    },
    "id": "8maOITNCsny_",
    "outputId": "40b7eda6-e90f-42c1-9d92-40cef6d20dec"
   },
   "outputs": [
    {
     "name": "stdout",
     "output_type": "stream",
     "text": [
      "[    1   641   130     1    43   504   162     8    27  1197    54 25414\n",
      "  1500    15   239  2241   130    44   249   509   207   858    82   200\n",
      "    28  1175    43   199     0     0     0     0     0     0     0     0\n",
      "     0     0     0     0     0     0     0     0     0     0     0     0\n",
      "     0     0     0     0     0     0     0     0     0     0     0     0\n",
      "     0     0     0     0     0     0     0     0     0     0     0     0\n",
      "     0     0     0     0     0     0     0     0     0     0     0     0\n",
      "     0     0     0     0     0     0     0     0     0     0     0     0\n",
      "     0     0     0     0     0     0     0     0     0     0     0     0\n",
      "     0     0     0     0     0     0     0     0     0     0     0     0\n",
      "     0     0     0     0     0     0     0     0     0     0     0     0\n",
      "     0     0     0     0     0     0     0     0     0     0     0     0\n",
      "     0     0     0     0     0     0     0     0     0     0     0     0\n",
      "     0     0     0     0     0     0     0     0     0     0     0     0\n",
      "     0     0     0     0     0     0     0     0     0     0     0     0\n",
      "     0     0     0     0     0     0     0     0     0     0     0     0\n",
      "     0     0     0     0     0     0     0     0     0     0     0     0\n",
      "     0     0     0     0     0     0     0     0     0     0     0     0\n",
      "     0     0     0     0     0     0     0     0     0     0     0     0\n",
      "     0     0     0     0     0     0     0     0     0     0     0     0\n",
      "     0     0     0     0     0     0     0     0     0     0     0     0\n",
      "     0     0     0     0     0     0     0     0     0     0     0     0\n",
      "     0     0     0     0     0     0     0     0     0     0     0     0\n",
      "     0     0     0     0     0     0     0     0     0     0     0     0\n",
      "     0     0     0     0     0     0     0     0     0     0     0     0\n",
      "     0     0     0     0     0     0     0     0     0     0     0     0\n",
      "     0     0     0     0     0     0     0     0     0     0     0     0\n",
      "     0     0     0     0     0     0     0     0     0     0     0     0\n",
      "     0     0     0     0     0     0     0     0     0     0     0     0\n",
      "     0     0     0     0     0     0     0     0     0     0     0     0\n",
      "     0     0     0     0     0     0     0     0     0     0     0     0\n",
      "     0     0     0     0     0     0     0     0     0     0     0     0\n",
      "     0     0     0     0     0     0     0     0     0     0     0     0\n",
      "     0     0     0     0     0     0     0     0     0     0     0     0\n",
      "     0     0     0     0     0     0     0     0     0     0     0     0\n",
      "     0     0     0     0     0     0     0     0     0     0     0     0\n",
      "     0     0     0     0     0     0     0     0     0     0     0     0\n",
      "     0     0     0     0     0     0     0     0     0     0     0     0\n",
      "     0     0     0     0     0     0     0     0     0     0     0     0\n",
      "     0     0     0     0     0     0     0     0     0     0     0     0\n",
      "     0     0     0     0     0     0     0     0     0     0     0     0\n",
      "     0     0     0     0     0     0     0     0     0     0     0     0\n",
      "     0     0     0     0     0     0     0     0     0     0     0     0\n",
      "     0     0     0     0     0     0     0     0     0     0     0     0\n",
      "     0     0     0     0     0     0     0     0     0     0     0     0\n",
      "     0     0     0     0     0     0     0     0     0     0     0     0\n",
      "     0     0     0     0     0     0     0     0     0     0     0     0\n",
      "     0     0     0     0     0     0     0     0     0     0     0     0\n",
      "     0     0     0     0     0     0]\n"
     ]
    }
   ],
   "source": [
    "X = pad_sequences(sequences, maxlen=max_sequence_length, truncating='post', padding='post')\n",
    "print(X[0])"
   ]
  },
  {
   "cell_type": "code",
   "execution_count": 23,
   "metadata": {
    "colab": {
     "base_uri": "https://localhost:8080/"
    },
    "id": "z-lfJzaIsoNw",
    "outputId": "79ae3f03-4a9e-45b1-e993-253a1175bb91"
   },
   "outputs": [
    {
     "name": "stdout",
     "output_type": "stream",
     "text": [
      "[    1   641   130     1    43   504   162     8    27  1197    54 25414\n",
      "  1500    15   239  2241   130    44   249   509   207   858    82   200\n",
      "    28  1175    43   199     0     0     0     0     0     0     0     0\n",
      "     0     0     0     0     0     0     0     0     0     0     0     0\n",
      "     0     0     0     0     0     0     0     0     0     0     0     0\n",
      "     0     0     0     0     0     0     0     0     0     0     0     0\n",
      "     0     0     0     0     0     0     0     0     0     0     0     0\n",
      "     0     0     0     0     0     0     0     0     0     0     0     0\n",
      "     0     0     0     0     0     0     0     0     0     0     0     0\n",
      "     0     0     0     0     0     0     0     0     0     0     0     0\n",
      "     0     0     0     0     0     0     0     0     0     0     0     0\n",
      "     0     0     0     0     0     0     0     0     0     0     0     0\n",
      "     0     0     0     0     0     0     0     0     0     0     0     0\n",
      "     0     0     0     0     0     0     0     0     0     0     0     0\n",
      "     0     0     0     0     0     0     0     0     0     0     0     0\n",
      "     0     0     0     0     0     0     0     0     0     0     0     0\n",
      "     0     0     0     0     0     0     0     0     0     0     0     0\n",
      "     0     0     0     0     0     0     0     0     0     0     0     0\n",
      "     0     0     0     0     0     0     0     0     0     0     0     0\n",
      "     0     0     0     0     0     0     0     0     0     0     0     0\n",
      "     0     0     0     0     0     0     0     0     0     0     0     0\n",
      "     0     0     0     0     0     0     0     0     0     0     0     0\n",
      "     0     0     0     0     0     0     0     0     0     0     0     0\n",
      "     0     0     0     0     0     0     0     0     0     0     0     0\n",
      "     0     0     0     0     0     0     0     0     0     0     0     0\n",
      "     0     0     0     0     0     0     0     0     0     0     0     0\n",
      "     0     0     0     0     0     0     0     0     0     0     0     0\n",
      "     0     0     0     0     0     0     0     0     0     0     0     0\n",
      "     0     0     0     0     0     0     0     0     0     0     0     0\n",
      "     0     0     0     0     0     0     0     0     0     0     0     0\n",
      "     0     0     0     0     0     0     0     0     0     0     0     0\n",
      "     0     0     0     0     0     0     0     0     0     0     0     0\n",
      "     0     0     0     0     0     0     0     0     0     0     0     0\n",
      "     0     0     0     0     0     0     0     0     0     0     0     0\n",
      "     0     0     0     0     0     0     0     0     0     0     0     0\n",
      "     0     0     0     0     0     0     0     0     0     0     0     0\n",
      "     0     0     0     0     0     0     0     0     0     0     0     0\n",
      "     0     0     0     0     0     0     0     0     0     0     0     0\n",
      "     0     0     0     0     0     0     0     0     0     0     0     0\n",
      "     0     0     0     0     0     0     0     0     0     0     0     0\n",
      "     0     0     0     0     0     0     0     0     0     0     0     0\n",
      "     0     0     0     0     0     0     0     0     0     0     0     0\n",
      "     0     0     0     0     0     0     0     0     0     0     0     0\n",
      "     0     0     0     0     0     0     0     0     0     0     0     0\n",
      "     0     0     0     0     0     0     0     0     0     0     0     0\n",
      "     0     0     0     0     0     0     0     0     0     0     0     0\n",
      "     0     0     0     0     0     0     0     0     0     0     0     0\n",
      "     0     0     0     0     0     0     0     0     0     0     0     0\n",
      "     0     0     0     0     0     0]\n"
     ]
    }
   ],
   "source": [
    "X = pad_sequences(sequences, maxlen=max_sequence_length, truncating='post', padding='post')\n",
    "print(X[0])"
   ]
  },
  {
   "cell_type": "code",
   "execution_count": 24,
   "metadata": {
    "colab": {
     "base_uri": "https://localhost:8080/"
    },
    "id": "FKMC73uUstcp",
    "outputId": "c060d86f-3663-422c-a266-22502df75663"
   },
   "outputs": [
    {
     "name": "stdout",
     "output_type": "stream",
     "text": [
      "Found 51051 unique tokens.\n",
      "(66806, 582)\n",
      "[[   1  641  130 ...    0    0    0]\n",
      " [  38 4959   40 ...    0    0    0]\n",
      " [   1 1223 1819 ...    0    0    0]\n",
      " ...\n",
      " [ 148   51  514 ...    0    0    0]\n",
      " [ 327  760  503 ...    0    0    0]\n",
      " [   9  138 4331 ...    0    0    0]]\n"
     ]
    }
   ],
   "source": [
    "print('Found %s unique tokens.' % len(word_index))\n",
    "print(X.shape)\n",
    "print(X)"
   ]
  },
  {
   "cell_type": "code",
   "execution_count": 25,
   "metadata": {
    "colab": {
     "base_uri": "https://localhost:8080/"
    },
    "id": "rdVuZCddstaQ",
    "outputId": "7262e4c6-d3b0-4900-ce9f-172618b42047"
   },
   "outputs": [
    {
     "name": "stdout",
     "output_type": "stream",
     "text": [
      "51052\n"
     ]
    }
   ],
   "source": [
    "num_words = len(word_index) + 1\n",
    "print(num_words)"
   ]
  },
  {
   "cell_type": "code",
   "execution_count": 26,
   "metadata": {
    "colab": {
     "base_uri": "https://localhost:8080/"
    },
    "id": "DPF1zEWrstXa",
    "outputId": "6f3792d5-7ddc-4fe9-a9ea-4be644ea68ce"
   },
   "outputs": [
    {
     "name": "stdout",
     "output_type": "stream",
     "text": [
      "['Debt collection', 'Consumer Loan', 'Mortgage', 'Credit card', 'Credit reporting', 'Student loan', 'Bank account or service', 'Payday loan', 'Money transfers', 'Other financial service', 'Prepaid card']\n",
      "11\n"
     ]
    }
   ],
   "source": [
    "product_list = list(data['product'].unique())\n",
    "print(product_list)\n",
    "print(len(product_list))"
   ]
  },
  {
   "cell_type": "code",
   "execution_count": 27,
   "metadata": {
    "colab": {
     "base_uri": "https://localhost:8080/"
    },
    "id": "KF-sT5aWstUU",
    "outputId": "dba7e49d-26c1-4550-ed9b-72ef1e0e5e34"
   },
   "outputs": [
    {
     "name": "stdout",
     "output_type": "stream",
     "text": [
      "11\n"
     ]
    }
   ],
   "source": [
    "labels = []\n",
    "for i in data['product']:\n",
    "    labels.append(product_list.index(i))\n",
    "print(len(set(labels)))"
   ]
  },
  {
   "cell_type": "code",
   "execution_count": 28,
   "metadata": {
    "id": "rZWXEeRqstSL"
   },
   "outputs": [],
   "source": [
    "y = np.array(labels)"
   ]
  },
  {
   "cell_type": "code",
   "execution_count": 29,
   "metadata": {
    "id": "xZj1hGNfstPW"
   },
   "outputs": [],
   "source": [
    "X_train, X_test, y_train, y_test = train_test_split(X, y, test_size=0.1125, random_state=41)\n",
    "\n",
    "tokenizer = Tokenizer(num_words=num_words, oov_token='<OOV>')\n",
    "\n",
    "# Convert X_train and X_test to lists of strings\n",
    "X_train = [str(x) for x in X_train.tolist()]\n",
    "X_test = [str(x) for x in X_test.tolist()]\n",
    "\n",
    "# Fit the tokenizer on the training data\n",
    "tokenizer.fit_on_texts(X_train)\n",
    "\n",
    "# Convert the training and test sets to tokenized sequences\n",
    "Tokenized_train = tokenizer.texts_to_sequences(X_train)\n",
    "Tokenized_val = tokenizer.texts_to_sequences(X_test)"
   ]
  },
  {
   "cell_type": "code",
   "execution_count": 30,
   "metadata": {
    "id": "KmRAB--DstNA"
   },
   "outputs": [],
   "source": [
    "maxlen = max_sequence_length\n",
    "padded_train = pad_sequences(Tokenized_train, maxlen=maxlen, padding='pre')\n",
    "padded_val = pad_sequences(Tokenized_val, maxlen=maxlen, padding='pre')"
   ]
  },
  {
   "cell_type": "code",
   "execution_count": 31,
   "metadata": {
    "colab": {
     "base_uri": "https://localhost:8080/"
    },
    "id": "Jri1FxodstJl",
    "outputId": "64b24f83-0c32-420a-d5d1-a9d77c978523"
   },
   "outputs": [
    {
     "data": {
      "text/plain": [
       "582"
      ]
     },
     "execution_count": 31,
     "metadata": {},
     "output_type": "execute_result"
    }
   ],
   "source": [
    "maxlen"
   ]
  },
  {
   "cell_type": "code",
   "execution_count": 31,
   "metadata": {
    "id": "1R9_xSQcstC5"
   },
   "outputs": [],
   "source": []
  },
  {
   "cell_type": "code",
   "execution_count": 31,
   "metadata": {
    "id": "TT6t0KyKsskd"
   },
   "outputs": [],
   "source": []
  },
  {
   "cell_type": "code",
   "execution_count": 32,
   "metadata": {
    "colab": {
     "base_uri": "https://localhost:8080/",
     "height": 123
    },
    "id": "QZdgYoafs4-L",
    "outputId": "8c930e70-1636-41f6-c89e-b915fa97d0e0"
   },
   "outputs": [
    {
     "data": {
      "application/vnd.google.colaboratory.intrinsic+json": {
       "type": "string"
      },
      "text/plain": [
       "\"import tensorflow as tf\\nfrom tensorflow.keras.models import Sequential\\nfrom tensorflow.keras.layers import Embedding, LSTM, Bidirectional, Dropout, Dense\\nfrom tensorflow.keras.optimizers import Adam\\n\\n\\n# Updated hyperparameters for a larger model\\nembed_dim = 300  # Increased embedding dimension for better representation\\nlstm_out = 128  # Increased number of LSTM units\\ndropout_rate = 0.5  # Dropout rate to prevent overfitting\\nnum_words = 20000  # Example vocabulary size\\ndense_units = 128  # Increased number of neurons in the Dense layer\\n\\nmodel = Sequential()\\n\\n# Embedding Layer\\nmodel.add(Embedding(input_dim=num_words, output_dim=embed_dim))  # input_length removed\\nmodel.add(Dropout(dropout_rate))  # Regularization\\n\\n# First Bidirectional LSTM Layer\\nmodel.add(Bidirectional(LSTM(lstm_out,\\n                             return_sequences=True,\\n                             kernel_regularizer=tf.keras.regularizers.l2(0.01),\\n                             recurrent_regularizer=tf.keras.regularizers.l2(0.01))))\\nmodel.add(Dropout(dropout_rate))\\n\\n# Second Bidirectional LSTM Layer\\nmodel.add(Bidirectional(LSTM(lstm_out,\\n                             kernel_regularizer=tf.keras.regularizers.l2(0.01),\\n                             recurrent_regularizer=tf.keras.regularizers.l2(0.01))))\\nmodel.add(Dropout(dropout_rate))\\n\\n# Additional Dense Layer to increase model complexity\\nmodel.add(Dense(dense_units, activation='relu'))\\nmodel.add(Dropout(dropout_rate))\\n\\n# Output Layer for Binary Classification\\nmodel.add(Dense(11, activation='sigmoid'))\\n\\n# Compile the model with a lower learning rate for fine-tuning\\noptimizer = Adam(learning_rate=3e-4)  # Lower learning rate for larger model\\nmodel.compile(loss='binary_crossentropy', optimizer=optimizer, metrics=['accuracy'])\\n\\n# Early stopping to avoid overfitting\\nearly_stopping = tf.keras.callbacks.EarlyStopping(patience=5, restore_best_weights=True)\\n\\n# Print the model summary\\nmodel.summary()\""
      ]
     },
     "execution_count": 32,
     "metadata": {},
     "output_type": "execute_result"
    }
   ],
   "source": [
    "'''import tensorflow as tf\n",
    "from tensorflow.keras.models import Sequential\n",
    "from tensorflow.keras.layers import Embedding, LSTM, Bidirectional, Dropout, Dense\n",
    "from tensorflow.keras.optimizers import Adam\n",
    "\n",
    "\n",
    "# Updated hyperparameters for a larger model\n",
    "embed_dim = 300  # Increased embedding dimension for better representation\n",
    "lstm_out = 128  # Increased number of LSTM units\n",
    "dropout_rate = 0.5  # Dropout rate to prevent overfitting\n",
    "num_words = 20000  # Example vocabulary size\n",
    "dense_units = 128  # Increased number of neurons in the Dense layer\n",
    "\n",
    "model = Sequential()\n",
    "\n",
    "# Embedding Layer\n",
    "model.add(Embedding(input_dim=num_words, output_dim=embed_dim))  # input_length removed\n",
    "model.add(Dropout(dropout_rate))  # Regularization\n",
    "\n",
    "# First Bidirectional LSTM Layer\n",
    "model.add(Bidirectional(LSTM(lstm_out,\n",
    "                             return_sequences=True,\n",
    "                             kernel_regularizer=tf.keras.regularizers.l2(0.01),\n",
    "                             recurrent_regularizer=tf.keras.regularizers.l2(0.01))))\n",
    "model.add(Dropout(dropout_rate))\n",
    "\n",
    "# Second Bidirectional LSTM Layer\n",
    "model.add(Bidirectional(LSTM(lstm_out,\n",
    "                             kernel_regularizer=tf.keras.regularizers.l2(0.01),\n",
    "                             recurrent_regularizer=tf.keras.regularizers.l2(0.01))))\n",
    "model.add(Dropout(dropout_rate))\n",
    "\n",
    "# Additional Dense Layer to increase model complexity\n",
    "model.add(Dense(dense_units, activation='relu'))\n",
    "model.add(Dropout(dropout_rate))\n",
    "\n",
    "# Output Layer for Binary Classification\n",
    "model.add(Dense(11, activation='sigmoid'))\n",
    "\n",
    "# Compile the model with a lower learning rate for fine-tuning\n",
    "optimizer = Adam(learning_rate=3e-4)  # Lower learning rate for larger model\n",
    "model.compile(loss='binary_crossentropy', optimizer=optimizer, metrics=['accuracy'])\n",
    "\n",
    "# Early stopping to avoid overfitting\n",
    "early_stopping = tf.keras.callbacks.EarlyStopping(patience=5, restore_best_weights=True)\n",
    "\n",
    "# Print the model summary\n",
    "model.summary()'''"
   ]
  },
  {
   "cell_type": "code",
   "execution_count": 33,
   "metadata": {
    "colab": {
     "base_uri": "https://localhost:8080/"
    },
    "id": "2yOWYWz_0G85",
    "outputId": "1eeffaf6-c206-4b68-d997-0c23c66b5aca"
   },
   "outputs": [
    {
     "name": "stdout",
     "output_type": "stream",
     "text": [
      "(59290, 582)\n",
      "(59290,)\n",
      "(7516, 582)\n",
      "(7516,)\n"
     ]
    }
   ],
   "source": [
    "print(padded_train.shape)\n",
    "print(y_train.shape)\n",
    "print(padded_val.shape)\n",
    "print(y_test.shape)"
   ]
  },
  {
   "cell_type": "code",
   "execution_count": 34,
   "metadata": {
    "id": "BiBP5dLq_Cet"
   },
   "outputs": [],
   "source": [
    "y_train = tf.keras.utils.to_categorical(y_train, 11) # Use tf.keras.utils\n",
    "y_test = tf.keras.utils.to_categorical(y_test, 11) # Use tf.keras.utils"
   ]
  },
  {
   "cell_type": "code",
   "execution_count": 35,
   "metadata": {
    "colab": {
     "base_uri": "https://localhost:8080/",
     "height": 123
    },
    "id": "MLF2vdvn1EtJ",
    "outputId": "b9332e24-adad-4ab5-cc4e-5451782055e6"
   },
   "outputs": [
    {
     "data": {
      "application/vnd.google.colaboratory.intrinsic+json": {
       "type": "string"
      },
      "text/plain": [
       "\"\\n# Hyperparameters\\nembed_dim = 128  # Embedding dimension\\nlstm_units = 100  # Number of LSTM units, reasonable size for sequence length 582\\ndropout_rate = 0.5  # Dropout to prevent overfitting\\nbatch_size = 64  # Batch size for training\\nepochs = 10  # Number of epochs\\nlearning_rate = 1e-4  # Learning rate\\n\\n# Model architecture\\nmodel = Sequential()\\n\\n# Embedding layer: input_dim is the vocabulary size (e.g., 20000), output_dim is the embedding size\\nmodel.add(Embedding(input_dim=20000, output_dim=embed_dim, input_length=582))\\n\\n# First Bidirectional LSTM layer\\nmodel.add(Bidirectional(LSTM(lstm_units, return_sequences=True, dropout=dropout_rate)))\\n\\n# Second Bidirectional LSTM layer\\nmodel.add(Bidirectional(LSTM(lstm_units, dropout=dropout_rate)))\\n\\n# Dense layer with dropout for regularization\\n#model.add(Dense(64, activation='relu'))\\nmodel.add(Dropout(dropout_rate))\\n\\n# Output layer for binary classification\\nmodel.add(Dense(11, activation='softmax'))\\n\\n# Compile the model with Adam optimizer and binary cross-entropy loss\\noptimizer = Adam(learning_rate=learning_rate)\\nmodel.compile(optimizer=optimizer, loss='binary_crossentropy', metrics=['accuracy'])\\n\\n# Print the model summary\\nmodel.summary()\\n\""
      ]
     },
     "execution_count": 35,
     "metadata": {},
     "output_type": "execute_result"
    }
   ],
   "source": [
    "import tensorflow as tf\n",
    "from tensorflow.keras.models import Sequential\n",
    "from tensorflow.keras.layers import Embedding, LSTM, Bidirectional, Dropout, Dense\n",
    "from tensorflow.keras.optimizers import Adam\n",
    "\n",
    "'''\n",
    "# Hyperparameters\n",
    "embed_dim = 128  # Embedding dimension\n",
    "lstm_units = 100  # Number of LSTM units, reasonable size for sequence length 582\n",
    "dropout_rate = 0.5  # Dropout to prevent overfitting\n",
    "batch_size = 64  # Batch size for training\n",
    "epochs = 10  # Number of epochs\n",
    "learning_rate = 1e-4  # Learning rate\n",
    "\n",
    "# Model architecture\n",
    "model = Sequential()\n",
    "\n",
    "# Embedding layer: input_dim is the vocabulary size (e.g., 20000), output_dim is the embedding size\n",
    "model.add(Embedding(input_dim=20000, output_dim=embed_dim, input_length=582))\n",
    "\n",
    "# First Bidirectional LSTM layer\n",
    "model.add(Bidirectional(LSTM(lstm_units, return_sequences=True, dropout=dropout_rate)))\n",
    "\n",
    "# Second Bidirectional LSTM layer\n",
    "model.add(Bidirectional(LSTM(lstm_units, dropout=dropout_rate)))\n",
    "\n",
    "# Dense layer with dropout for regularization\n",
    "#model.add(Dense(64, activation='relu'))\n",
    "model.add(Dropout(dropout_rate))\n",
    "\n",
    "# Output layer for binary classification\n",
    "model.add(Dense(11, activation='softmax'))\n",
    "\n",
    "# Compile the model with Adam optimizer and binary cross-entropy loss\n",
    "optimizer = Adam(learning_rate=learning_rate)\n",
    "model.compile(optimizer=optimizer, loss='binary_crossentropy', metrics=['accuracy'])\n",
    "\n",
    "# Print the model summary\n",
    "model.summary()\n",
    "'''"
   ]
  },
  {
   "cell_type": "code",
   "execution_count": 36,
   "metadata": {
    "colab": {
     "base_uri": "https://localhost:8080/"
    },
    "id": "nhZCZVNI83W7",
    "outputId": "cec060be-5fe1-45f3-ae8a-cd8c0684760c"
   },
   "outputs": [
    {
     "name": "stdout",
     "output_type": "stream",
     "text": [
      "Model: \"sequential\"\n",
      "_________________________________________________________________\n",
      " Layer (type)                Output Shape              Param #   \n",
      "=================================================================\n",
      " embedding (Embedding)       (None, 582, 128)          2560000   \n",
      "                                                                 \n",
      " bidirectional (Bidirection  (None, 582, 200)          183200    \n",
      " al)                                                             \n",
      "                                                                 \n",
      " bidirectional_1 (Bidirecti  (None, 582, 200)          240800    \n",
      " onal)                                                           \n",
      "                                                                 \n",
      " bidirectional_2 (Bidirecti  (None, 582, 200)          240800    \n",
      " onal)                                                           \n",
      "                                                                 \n",
      " bidirectional_3 (Bidirecti  (None, 200)               240800    \n",
      " onal)                                                           \n",
      "                                                                 \n",
      " dropout (Dropout)           (None, 200)               0         \n",
      "                                                                 \n",
      " dense (Dense)               (None, 11)                2211      \n",
      "                                                                 \n",
      "=================================================================\n",
      "Total params: 3467811 (13.23 MB)\n",
      "Trainable params: 3467811 (13.23 MB)\n",
      "Non-trainable params: 0 (0.00 Byte)\n",
      "_________________________________________________________________\n"
     ]
    }
   ],
   "source": [
    "import tensorflow as tf\n",
    "from tensorflow.keras.models import Sequential\n",
    "from tensorflow.keras.layers import Embedding, LSTM, Bidirectional, Dropout, Dense\n",
    "from tensorflow.keras.optimizers import Adam\n",
    "\n",
    "# Hyperparameters\n",
    "embed_dim = 128  # Embedding dimension\n",
    "lstm_units = 100  # Number of LSTM units\n",
    "dropout_rate = 0.5  # Dropout rate\n",
    "batch_size = 32  # Batch size for training\n",
    "epochs = 10  # Number of epochs\n",
    "learning_rate = 1e-4  # Learning rate\n",
    "\n",
    "# Model architecture\n",
    "model = Sequential()\n",
    "\n",
    "# Embedding layer: input_dim is the vocabulary size (e.g., 20000), output_dim is the embedding size\n",
    "model.add(Embedding(input_dim=20000, output_dim=embed_dim, input_length=582))\n",
    "\n",
    "# First Bidirectional LSTM layer\n",
    "model.add(Bidirectional(LSTM(lstm_units, return_sequences=True, dropout=dropout_rate)))\n",
    "\n",
    "# Second Bidirectional LSTM layer\n",
    "model.add(Bidirectional(LSTM(lstm_units, return_sequences=True, dropout=dropout_rate)))\n",
    "\n",
    "# Third Bidirectional LSTM layer (you can add more layers similarly)\n",
    "model.add(Bidirectional(LSTM(lstm_units, return_sequences=True, dropout=dropout_rate)))\n",
    "\n",
    "# Fourth Bidirectional LSTM layer (without return_sequences since this is the last LSTM)\n",
    "model.add(Bidirectional(LSTM(lstm_units, dropout=dropout_rate)))\n",
    "\n",
    "# Dense layer with dropout for regularization\n",
    "# model.add(Dense(128, activation='relu'))\n",
    "model.add(Dropout(dropout_rate))\n",
    "\n",
    "# Output layer for multiclass classification (11 classes in this case)\n",
    "model.add(Dense(11, activation='softmax'))\n",
    "\n",
    "# Compile the model with Adam optimizer and categorical cross-entropy loss\n",
    "optimizer = Adam(learning_rate=learning_rate)\n",
    "model.compile(optimizer=optimizer, loss='categorical_crossentropy', metrics=['accuracy'])\n",
    "\n",
    "# Print the model summary\n",
    "model.summary()\n",
    "\n",
    "# Assuming padded_train and y_train are defined, you can train the model as:\n",
    "# history = model.fit(padded_train, y_train, validation_data=(padded_val, y_val), epochs=epochs, batch_size=batch_size)\n"
   ]
  },
  {
   "cell_type": "code",
   "execution_count": 37,
   "metadata": {
    "colab": {
     "base_uri": "https://localhost:8080/",
     "height": 36
    },
    "id": "plKzaySgAF6N",
    "outputId": "470d36df-e4df-47b0-b637-dc2f0c5fb79d"
   },
   "outputs": [
    {
     "data": {
      "application/vnd.google.colaboratory.intrinsic+json": {
       "type": "string"
      },
      "text/plain": [
       "\"model.compile(loss='categorical_crossentropy', optimizer='adam', metrics=['accuracy'])\\n\\n# Train the model\\nmodel.fit(padded_train, y_train, batch_size=32, epochs=10)\""
      ]
     },
     "execution_count": 37,
     "metadata": {},
     "output_type": "execute_result"
    }
   ],
   "source": [
    "'''model.compile(loss='categorical_crossentropy', optimizer='adam', metrics=['accuracy'])\n",
    "\n",
    "# Train the model\n",
    "model.fit(padded_train, y_train, batch_size=32, epochs=10)'''"
   ]
  },
  {
   "cell_type": "code",
   "execution_count": 38,
   "metadata": {
    "colab": {
     "base_uri": "https://localhost:8080/"
    },
    "id": "lFiZP_pVs65n",
    "outputId": "212b72e0-8e8b-4d60-b365-836ad49b081b"
   },
   "outputs": [
    {
     "name": "stdout",
     "output_type": "stream",
     "text": [
      "Epoch 1/10\n",
      "1853/1853 [==============================] - 392s 201ms/step - loss: 1.1762 - accuracy: 0.6083 - val_loss: 0.8347 - val_accuracy: 0.7366\n",
      "Epoch 2/10\n",
      "1853/1853 [==============================] - 330s 178ms/step - loss: 0.8091 - accuracy: 0.7543 - val_loss: 0.7492 - val_accuracy: 0.7696\n",
      "Epoch 3/10\n",
      "1853/1853 [==============================] - 327s 176ms/step - loss: 0.6898 - accuracy: 0.7880 - val_loss: 0.6518 - val_accuracy: 0.7946\n",
      "Epoch 4/10\n",
      "1853/1853 [==============================] - 318s 172ms/step - loss: 0.6085 - accuracy: 0.8201 - val_loss: 0.6070 - val_accuracy: 0.8163\n",
      "Epoch 5/10\n",
      "1853/1853 [==============================] - 325s 175ms/step - loss: 0.5465 - accuracy: 0.8401 - val_loss: 0.5799 - val_accuracy: 0.8249\n",
      "Epoch 6/10\n",
      "1853/1853 [==============================] - 325s 176ms/step - loss: 0.5031 - accuracy: 0.8539 - val_loss: 0.5661 - val_accuracy: 0.8313\n",
      "Epoch 7/10\n",
      "1853/1853 [==============================] - 324s 175ms/step - loss: 0.4651 - accuracy: 0.8647 - val_loss: 0.5702 - val_accuracy: 0.8322\n",
      "Epoch 8/10\n",
      "1853/1853 [==============================] - 324s 175ms/step - loss: 0.4381 - accuracy: 0.8740 - val_loss: 0.5623 - val_accuracy: 0.8361\n",
      "Epoch 9/10\n",
      "1853/1853 [==============================] - 324s 175ms/step - loss: 0.4106 - accuracy: 0.8807 - val_loss: 0.5512 - val_accuracy: 0.8401\n",
      "Epoch 10/10\n",
      "1853/1853 [==============================] - 318s 172ms/step - loss: 0.3892 - accuracy: 0.8884 - val_loss: 0.5536 - val_accuracy: 0.8387\n"
     ]
    }
   ],
   "source": [
    "early_stopping = tf.keras.callbacks.EarlyStopping(monitor='val_accuracy',\n",
    "                                                  mode='auto',\n",
    "                                                  patience=5,\n",
    "                                                  restore_best_weights=True)\n",
    "\n",
    "epochs = 10\n",
    "history = model.fit(padded_train, y_train, epochs=epochs,\n",
    "                    validation_data=(padded_val, y_test),\n",
    "                    callbacks=[early_stopping], batch_size=32)"
   ]
  },
  {
   "cell_type": "code",
   "execution_count": 39,
   "metadata": {
    "colab": {
     "base_uri": "https://localhost:8080/",
     "height": 105
    },
    "id": "mc__0yuQxgi4",
    "outputId": "d5967151-5d30-4192-8c8b-05751d10e3da"
   },
   "outputs": [
    {
     "data": {
      "application/vnd.google.colaboratory.intrinsic+json": {
       "type": "string"
      },
      "text/plain": [
       "\"\\n# Load the tokenizer corresponding to your model\\ntokenizer = BertTokenizer.from_pretrained('bert-base-uncased')\\n\\n# Load a pre-trained BERT model for sequence classification\\nmodel = TFBertForSequenceClassification.from_pretrained('bert-base-uncased', num_labels=1)\\n\\n# ... (rest of your code)\\n\\n# Ensure you use the correct tokenizer to process your data before training\\n# Example:\\n# inputs = tokenizer(your_text_data, return_tensors='tf', padding=True, truncation=True)\\n# padded_train = inputs['input_ids']\\n\\n# Compile the model\\n#optimizer = Adam(learning_rate=2e-5)  # Lower learning rates are recommended for fine-tuning BERT\\nmodel.compile(optimizer='adam', loss='binary_crossentropy', metrics=['accuracy'])\\n\\n# Print the model summary\\nmodel.summary()\\nhistory = model.fit(padded_train, y_train, epochs=3, validation_split=0.1, batch_size=32)\\n\""
      ]
     },
     "execution_count": 39,
     "metadata": {},
     "output_type": "execute_result"
    }
   ],
   "source": [
    "from transformers import BertTokenizer, TFBertForSequenceClassification\n",
    "from tensorflow.keras.optimizers import Adam\n",
    "\n",
    "'''\n",
    "# Load the tokenizer corresponding to your model\n",
    "tokenizer = BertTokenizer.from_pretrained('bert-base-uncased')\n",
    "\n",
    "# Load a pre-trained BERT model for sequence classification\n",
    "model = TFBertForSequenceClassification.from_pretrained('bert-base-uncased', num_labels=1)\n",
    "\n",
    "# ... (rest of your code)\n",
    "\n",
    "# Ensure you use the correct tokenizer to process your data before training\n",
    "# Example:\n",
    "# inputs = tokenizer(your_text_data, return_tensors='tf', padding=True, truncation=True)\n",
    "# padded_train = inputs['input_ids']\n",
    "\n",
    "# Compile the model\n",
    "#optimizer = Adam(learning_rate=2e-5)  # Lower learning rates are recommended for fine-tuning BERT\n",
    "model.compile(optimizer='adam', loss='binary_crossentropy', metrics=['accuracy'])\n",
    "\n",
    "# Print the model summary\n",
    "model.summary()\n",
    "history = model.fit(padded_train, y_train, epochs=3, validation_split=0.1, batch_size=32)\n",
    "'''"
   ]
  },
  {
   "cell_type": "code",
   "execution_count": 40,
   "metadata": {
    "colab": {
     "base_uri": "https://localhost:8080/",
     "height": 504
    },
    "id": "br41qgqGs9Dq",
    "outputId": "a21fef8f-c0c2-44c7-bb0e-8df2bc8fe3e7"
   },
   "outputs": [
    {
     "data": {
      "text/plain": [
       "<matplotlib.legend.Legend at 0x7c0522393b80>"
      ]
     },
     "execution_count": 40,
     "metadata": {},
     "output_type": "execute_result"
    },
    {
     "data": {
      "image/png": "[encoded data removed]",
      "text/plain": [
       "<Figure size 1000x500 with 1 Axes>"
      ]
     },
     "metadata": {},
     "output_type": "display_data"
    }
   ],
   "source": [
    "plt.figure(figsize=(10,5))\n",
    "plt.plot(history.history['loss'], label='Train Loss')\n",
    "plt.plot(history.history['val_loss'], label='Validation Loss')\n",
    "plt.title('Train and Validation Loss Graphs')\n",
    "plt.xlabel('Epochs')\n",
    "plt.ylabel('Loss')\n",
    "plt.legend()"
   ]
  },
  {
   "cell_type": "code",
   "execution_count": 41,
   "metadata": {
    "colab": {
     "base_uri": "https://localhost:8080/",
     "height": 504
    },
    "id": "IknB3wnDs-ak",
    "outputId": "39771a2b-b29f-45b2-8e6e-54104702fea2"
   },
   "outputs": [
    {
     "data": {
      "text/plain": [
       "<matplotlib.legend.Legend at 0x7c052228bdc0>"
      ]
     },
     "execution_count": 41,
     "metadata": {},
     "output_type": "execute_result"
    },
    {
     "data": {
      "image/png": "[encoded data removed]",
      "text/plain": [
       "<Figure size 1000x500 with 1 Axes>"
      ]
     },
     "metadata": {},
     "output_type": "display_data"
    }
   ],
   "source": [
    "plt.figure(figsize=(10,5))\n",
    "plt.plot(history.history['accuracy'], label='Train Accuracy')\n",
    "plt.plot(history.history['val_accuracy'], label='Validation Accuracy')\n",
    "plt.title('Train and Validation Accuracy Graphs')\n",
    "plt.xlabel('Epochs')\n",
    "plt.ylabel('Accuracy')\n",
    "plt.legend()"
   ]
  },
  {
   "cell_type": "code",
   "execution_count": 42,
   "metadata": {
    "colab": {
     "base_uri": "https://localhost:8080/"
    },
    "id": "PmkdV4XJtAEb",
    "outputId": "1dbcd174-1fcc-4efc-edd6-8bce4ce360f7"
   },
   "outputs": [
    {
     "name": "stdout",
     "output_type": "stream",
     "text": [
      "Model: \"sequential\"\n",
      "_________________________________________________________________\n",
      " Layer (type)                Output Shape              Param #   \n",
      "=================================================================\n",
      " embedding (Embedding)       (None, 582, 128)          2560000   \n",
      "                                                                 \n",
      " bidirectional (Bidirection  (None, 582, 200)          183200    \n",
      " al)                                                             \n",
      "                                                                 \n",
      " bidirectional_1 (Bidirecti  (None, 582, 200)          240800    \n",
      " onal)                                                           \n",
      "                                                                 \n",
      " bidirectional_2 (Bidirecti  (None, 582, 200)          240800    \n",
      " onal)                                                           \n",
      "                                                                 \n",
      " bidirectional_3 (Bidirecti  (None, 200)               240800    \n",
      " onal)                                                           \n",
      "                                                                 \n",
      " dropout (Dropout)           (None, 200)               0         \n",
      "                                                                 \n",
      " dense (Dense)               (None, 11)                2211      \n",
      "                                                                 \n",
      "=================================================================\n",
      "Total params: 3467811 (13.23 MB)\n",
      "Trainable params: 3467811 (13.23 MB)\n",
      "Non-trainable params: 0 (0.00 Byte)\n",
      "_________________________________________________________________\n"
     ]
    }
   ],
   "source": [
    "model.summary()"
   ]
  },
  {
   "cell_type": "code",
   "execution_count": 43,
   "metadata": {
    "colab": {
     "base_uri": "https://localhost:8080/"
    },
    "id": "50fLigEvtEUa",
    "outputId": "860dd39e-ed9e-4ae2-972d-22543db1ce03"
   },
   "outputs": [
    {
     "name": "stdout",
     "output_type": "stream",
     "text": [
      "235/235 [==============================] - 15s 63ms/step - loss: 0.5536 - accuracy: 0.8387\n"
     ]
    }
   ],
   "source": [
    "tokenized_test = tokenizer.texts_to_sequences(X_test)\n",
    "padded_test = pad_sequences(tokenized_test, maxlen=maxlen, padding='pre')\n",
    "\n",
    "test_evaluate = model.evaluate(padded_test, y_test)"
   ]
  },
  {
   "cell_type": "code",
   "execution_count": null,
   "metadata": {
    "id": "NBgtn8RftEOs"
   },
   "outputs": [],
   "source": [
    "pred_train_lstm = model.predict(padded_train)\n",
    "pred_test_lstm = model.predict(padded_test)"
   ]
  },
  {
   "cell_type": "code",
   "execution_count": 45,
   "metadata": {
    "colab": {
     "base_uri": "https://localhost:8080/"
    },
    "id": "BOwstHx7tEGL",
    "outputId": "63014419-3ad6-44e5-d2d2-8b706dd0362e"
   },
   "outputs": [
    {
     "data": {
      "text/plain": [
       "(7516, 582)"
      ]
     },
     "execution_count": 45,
     "metadata": {},
     "output_type": "execute_result"
    },
    {
     "data": {
      "text/plain": [
       "(7516, 582)"
      ]
     },
     "execution_count": 45,
     "metadata": {},
     "output_type": "execute_result"
    }
   ],
   "source": [
    "padded_test.shape"
   ]
  }
 ],
 "metadata": {
  "accelerator": "GPU",
  "colab": {
   "gpuType": "T4",
   "provenance": []
  },
  "kernelspec": {
   "display_name": "Python 3 (ipykernel)",
   "language": "python",
   "name": "python3"
  },
  "language_info": {
   "codemirror_mode": {
    "name": "ipython",
    "version": 3
   },
   "file_extension": ".py",
   "mimetype": "text/x-python",
   "name": "python",
   "nbconvert_exporter": "python",
   "pygments_lexer": "ipython3",
   "version": "3.12.4"
  }
 },
 "nbformat": 4,
 "nbformat_minor": 4
}
